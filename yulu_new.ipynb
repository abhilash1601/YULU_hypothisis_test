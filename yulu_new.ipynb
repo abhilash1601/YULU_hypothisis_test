{
 "cells": [
  {
   "cell_type": "code",
   "execution_count": 1,
   "id": "b603d3c3",
   "metadata": {},
   "outputs": [],
   "source": [
    "import pandas as pd\n",
    "import numpy as np\n",
    "from scipy import stats as stat\n",
    "import seaborn as sns\n",
    "import matplotlib.pyplot as plt"
   ]
  },
  {
   "cell_type": "markdown",
   "id": "58f9fdcc",
   "metadata": {},
   "source": [
    "## About Yulu\n",
    "\n",
    "Yulu is India’s leading micro-mobility service provider, which offers unique vehicles for the daily commute. Starting off as a mission to eliminate traffic congestion in India, Yulu provides the safest commute solution through a user-friendly mobile app to enable shared, solo and sustainable commuting.\n",
    "\n",
    "Yulu zones are located at all the appropriate locations (including metro stations, bus stands, office spaces, residential areas, corporate offices, etc) to make those first and last miles smooth, affordable, and convenient!\n",
    "\n",
    "Yulu has recently suffered considerable dips in its revenues. They have contracted a consulting company to understand the factors on which the demand for these shared electric cycles depends. Specifically, they want to understand the factors affecting the demand for these shared electric cycles in the Indian market."
   ]
  },
  {
   "cell_type": "markdown",
   "id": "11a65934",
   "metadata": {},
   "source": [
    "## About Dataset \n",
    "\n",
    "\n",
    "Column Profiling:\n",
    "\n",
    "    datetime: datetime\n",
    "    season: season (1: spring, 2: summer, 3: fall, 4: winter)\n",
    "    holiday: whether day is a holiday or not (extracted from http://dchr.dc.gov/page/holiday-schedule)\n",
    "    workingday: if day is neither weekend nor holiday is 1, otherwise is 0.\n",
    "    weather:\n",
    "        1: Clear, Few clouds, partly cloudy, partly cloudy\n",
    "        2: Mist + Cloudy, Mist + Broken clouds, Mist + Few clouds, Mist\n",
    "        3: Light Snow, Light Rain + Thunderstorm + Scattered clouds, Light Rain + Scattered clouds\n",
    "        4: Heavy Rain + Ice Pallets + Thunderstorm + Mist, Snow + Fog\n",
    "    temp: temperature in Celsius\n",
    "    atemp: feeling temperature in Celsius\n",
    "    humidity: humidity\n",
    "    windspeed: wind speed\n",
    "    casual: count of casual users\n",
    "    registered: count of registered users\n",
    "    count: count of total rental bikes including both casual and registered"
   ]
  },
  {
   "cell_type": "code",
   "execution_count": 2,
   "id": "7c8cad5a",
   "metadata": {},
   "outputs": [],
   "source": [
    "df=pd.read_csv('bike_sharing.txt')"
   ]
  },
  {
   "cell_type": "code",
   "execution_count": 3,
   "id": "5078a2a0",
   "metadata": {},
   "outputs": [
    {
     "data": {
      "text/html": [
       "<div>\n",
       "<style scoped>\n",
       "    .dataframe tbody tr th:only-of-type {\n",
       "        vertical-align: middle;\n",
       "    }\n",
       "\n",
       "    .dataframe tbody tr th {\n",
       "        vertical-align: top;\n",
       "    }\n",
       "\n",
       "    .dataframe thead th {\n",
       "        text-align: right;\n",
       "    }\n",
       "</style>\n",
       "<table border=\"1\" class=\"dataframe\">\n",
       "  <thead>\n",
       "    <tr style=\"text-align: right;\">\n",
       "      <th></th>\n",
       "      <th>datetime</th>\n",
       "      <th>season</th>\n",
       "      <th>holiday</th>\n",
       "      <th>workingday</th>\n",
       "      <th>weather</th>\n",
       "      <th>temp</th>\n",
       "      <th>atemp</th>\n",
       "      <th>humidity</th>\n",
       "      <th>windspeed</th>\n",
       "      <th>casual</th>\n",
       "      <th>registered</th>\n",
       "      <th>count</th>\n",
       "    </tr>\n",
       "  </thead>\n",
       "  <tbody>\n",
       "    <tr>\n",
       "      <th>0</th>\n",
       "      <td>2011-01-01 00:00:00</td>\n",
       "      <td>1</td>\n",
       "      <td>0</td>\n",
       "      <td>0</td>\n",
       "      <td>1</td>\n",
       "      <td>9.84</td>\n",
       "      <td>14.395</td>\n",
       "      <td>81</td>\n",
       "      <td>0.0000</td>\n",
       "      <td>3</td>\n",
       "      <td>13</td>\n",
       "      <td>16</td>\n",
       "    </tr>\n",
       "    <tr>\n",
       "      <th>1</th>\n",
       "      <td>2011-01-01 01:00:00</td>\n",
       "      <td>1</td>\n",
       "      <td>0</td>\n",
       "      <td>0</td>\n",
       "      <td>1</td>\n",
       "      <td>9.02</td>\n",
       "      <td>13.635</td>\n",
       "      <td>80</td>\n",
       "      <td>0.0000</td>\n",
       "      <td>8</td>\n",
       "      <td>32</td>\n",
       "      <td>40</td>\n",
       "    </tr>\n",
       "    <tr>\n",
       "      <th>2</th>\n",
       "      <td>2011-01-01 02:00:00</td>\n",
       "      <td>1</td>\n",
       "      <td>0</td>\n",
       "      <td>0</td>\n",
       "      <td>1</td>\n",
       "      <td>9.02</td>\n",
       "      <td>13.635</td>\n",
       "      <td>80</td>\n",
       "      <td>0.0000</td>\n",
       "      <td>5</td>\n",
       "      <td>27</td>\n",
       "      <td>32</td>\n",
       "    </tr>\n",
       "    <tr>\n",
       "      <th>3</th>\n",
       "      <td>2011-01-01 03:00:00</td>\n",
       "      <td>1</td>\n",
       "      <td>0</td>\n",
       "      <td>0</td>\n",
       "      <td>1</td>\n",
       "      <td>9.84</td>\n",
       "      <td>14.395</td>\n",
       "      <td>75</td>\n",
       "      <td>0.0000</td>\n",
       "      <td>3</td>\n",
       "      <td>10</td>\n",
       "      <td>13</td>\n",
       "    </tr>\n",
       "    <tr>\n",
       "      <th>4</th>\n",
       "      <td>2011-01-01 04:00:00</td>\n",
       "      <td>1</td>\n",
       "      <td>0</td>\n",
       "      <td>0</td>\n",
       "      <td>1</td>\n",
       "      <td>9.84</td>\n",
       "      <td>14.395</td>\n",
       "      <td>75</td>\n",
       "      <td>0.0000</td>\n",
       "      <td>0</td>\n",
       "      <td>1</td>\n",
       "      <td>1</td>\n",
       "    </tr>\n",
       "    <tr>\n",
       "      <th>...</th>\n",
       "      <td>...</td>\n",
       "      <td>...</td>\n",
       "      <td>...</td>\n",
       "      <td>...</td>\n",
       "      <td>...</td>\n",
       "      <td>...</td>\n",
       "      <td>...</td>\n",
       "      <td>...</td>\n",
       "      <td>...</td>\n",
       "      <td>...</td>\n",
       "      <td>...</td>\n",
       "      <td>...</td>\n",
       "    </tr>\n",
       "    <tr>\n",
       "      <th>10881</th>\n",
       "      <td>2012-12-19 19:00:00</td>\n",
       "      <td>4</td>\n",
       "      <td>0</td>\n",
       "      <td>1</td>\n",
       "      <td>1</td>\n",
       "      <td>15.58</td>\n",
       "      <td>19.695</td>\n",
       "      <td>50</td>\n",
       "      <td>26.0027</td>\n",
       "      <td>7</td>\n",
       "      <td>329</td>\n",
       "      <td>336</td>\n",
       "    </tr>\n",
       "    <tr>\n",
       "      <th>10882</th>\n",
       "      <td>2012-12-19 20:00:00</td>\n",
       "      <td>4</td>\n",
       "      <td>0</td>\n",
       "      <td>1</td>\n",
       "      <td>1</td>\n",
       "      <td>14.76</td>\n",
       "      <td>17.425</td>\n",
       "      <td>57</td>\n",
       "      <td>15.0013</td>\n",
       "      <td>10</td>\n",
       "      <td>231</td>\n",
       "      <td>241</td>\n",
       "    </tr>\n",
       "    <tr>\n",
       "      <th>10883</th>\n",
       "      <td>2012-12-19 21:00:00</td>\n",
       "      <td>4</td>\n",
       "      <td>0</td>\n",
       "      <td>1</td>\n",
       "      <td>1</td>\n",
       "      <td>13.94</td>\n",
       "      <td>15.910</td>\n",
       "      <td>61</td>\n",
       "      <td>15.0013</td>\n",
       "      <td>4</td>\n",
       "      <td>164</td>\n",
       "      <td>168</td>\n",
       "    </tr>\n",
       "    <tr>\n",
       "      <th>10884</th>\n",
       "      <td>2012-12-19 22:00:00</td>\n",
       "      <td>4</td>\n",
       "      <td>0</td>\n",
       "      <td>1</td>\n",
       "      <td>1</td>\n",
       "      <td>13.94</td>\n",
       "      <td>17.425</td>\n",
       "      <td>61</td>\n",
       "      <td>6.0032</td>\n",
       "      <td>12</td>\n",
       "      <td>117</td>\n",
       "      <td>129</td>\n",
       "    </tr>\n",
       "    <tr>\n",
       "      <th>10885</th>\n",
       "      <td>2012-12-19 23:00:00</td>\n",
       "      <td>4</td>\n",
       "      <td>0</td>\n",
       "      <td>1</td>\n",
       "      <td>1</td>\n",
       "      <td>13.12</td>\n",
       "      <td>16.665</td>\n",
       "      <td>66</td>\n",
       "      <td>8.9981</td>\n",
       "      <td>4</td>\n",
       "      <td>84</td>\n",
       "      <td>88</td>\n",
       "    </tr>\n",
       "  </tbody>\n",
       "</table>\n",
       "<p>10886 rows × 12 columns</p>\n",
       "</div>"
      ],
      "text/plain": [
       "                  datetime  season  holiday  workingday  weather   temp  \\\n",
       "0      2011-01-01 00:00:00       1        0           0        1   9.84   \n",
       "1      2011-01-01 01:00:00       1        0           0        1   9.02   \n",
       "2      2011-01-01 02:00:00       1        0           0        1   9.02   \n",
       "3      2011-01-01 03:00:00       1        0           0        1   9.84   \n",
       "4      2011-01-01 04:00:00       1        0           0        1   9.84   \n",
       "...                    ...     ...      ...         ...      ...    ...   \n",
       "10881  2012-12-19 19:00:00       4        0           1        1  15.58   \n",
       "10882  2012-12-19 20:00:00       4        0           1        1  14.76   \n",
       "10883  2012-12-19 21:00:00       4        0           1        1  13.94   \n",
       "10884  2012-12-19 22:00:00       4        0           1        1  13.94   \n",
       "10885  2012-12-19 23:00:00       4        0           1        1  13.12   \n",
       "\n",
       "        atemp  humidity  windspeed  casual  registered  count  \n",
       "0      14.395        81     0.0000       3          13     16  \n",
       "1      13.635        80     0.0000       8          32     40  \n",
       "2      13.635        80     0.0000       5          27     32  \n",
       "3      14.395        75     0.0000       3          10     13  \n",
       "4      14.395        75     0.0000       0           1      1  \n",
       "...       ...       ...        ...     ...         ...    ...  \n",
       "10881  19.695        50    26.0027       7         329    336  \n",
       "10882  17.425        57    15.0013      10         231    241  \n",
       "10883  15.910        61    15.0013       4         164    168  \n",
       "10884  17.425        61     6.0032      12         117    129  \n",
       "10885  16.665        66     8.9981       4          84     88  \n",
       "\n",
       "[10886 rows x 12 columns]"
      ]
     },
     "execution_count": 3,
     "metadata": {},
     "output_type": "execute_result"
    }
   ],
   "source": [
    "df"
   ]
  },
  {
   "cell_type": "code",
   "execution_count": 4,
   "id": "39f2e3b0",
   "metadata": {},
   "outputs": [
    {
     "name": "stdout",
     "output_type": "stream",
     "text": [
      "<class 'pandas.core.frame.DataFrame'>\n",
      "RangeIndex: 10886 entries, 0 to 10885\n",
      "Data columns (total 12 columns):\n",
      " #   Column      Non-Null Count  Dtype  \n",
      "---  ------      --------------  -----  \n",
      " 0   datetime    10886 non-null  object \n",
      " 1   season      10886 non-null  int64  \n",
      " 2   holiday     10886 non-null  int64  \n",
      " 3   workingday  10886 non-null  int64  \n",
      " 4   weather     10886 non-null  int64  \n",
      " 5   temp        10886 non-null  float64\n",
      " 6   atemp       10886 non-null  float64\n",
      " 7   humidity    10886 non-null  int64  \n",
      " 8   windspeed   10886 non-null  float64\n",
      " 9   casual      10886 non-null  int64  \n",
      " 10  registered  10886 non-null  int64  \n",
      " 11  count       10886 non-null  int64  \n",
      "dtypes: float64(3), int64(8), object(1)\n",
      "memory usage: 1020.7+ KB\n"
     ]
    }
   ],
   "source": [
    "#There are no missing values \n",
    "df.info()"
   ]
  },
  {
   "cell_type": "code",
   "execution_count": 5,
   "id": "9dfe21e2",
   "metadata": {},
   "outputs": [
    {
     "data": {
      "text/html": [
       "<div>\n",
       "<style scoped>\n",
       "    .dataframe tbody tr th:only-of-type {\n",
       "        vertical-align: middle;\n",
       "    }\n",
       "\n",
       "    .dataframe tbody tr th {\n",
       "        vertical-align: top;\n",
       "    }\n",
       "\n",
       "    .dataframe thead th {\n",
       "        text-align: right;\n",
       "    }\n",
       "</style>\n",
       "<table border=\"1\" class=\"dataframe\">\n",
       "  <thead>\n",
       "    <tr style=\"text-align: right;\">\n",
       "      <th></th>\n",
       "      <th>season</th>\n",
       "      <th>holiday</th>\n",
       "      <th>workingday</th>\n",
       "      <th>weather</th>\n",
       "      <th>temp</th>\n",
       "      <th>atemp</th>\n",
       "      <th>humidity</th>\n",
       "      <th>windspeed</th>\n",
       "      <th>casual</th>\n",
       "      <th>registered</th>\n",
       "      <th>count</th>\n",
       "    </tr>\n",
       "  </thead>\n",
       "  <tbody>\n",
       "    <tr>\n",
       "      <th>count</th>\n",
       "      <td>10886.000000</td>\n",
       "      <td>10886.000000</td>\n",
       "      <td>10886.000000</td>\n",
       "      <td>10886.000000</td>\n",
       "      <td>10886.00000</td>\n",
       "      <td>10886.000000</td>\n",
       "      <td>10886.000000</td>\n",
       "      <td>10886.000000</td>\n",
       "      <td>10886.000000</td>\n",
       "      <td>10886.000000</td>\n",
       "      <td>10886.000000</td>\n",
       "    </tr>\n",
       "    <tr>\n",
       "      <th>mean</th>\n",
       "      <td>2.506614</td>\n",
       "      <td>0.028569</td>\n",
       "      <td>0.680875</td>\n",
       "      <td>1.418427</td>\n",
       "      <td>20.23086</td>\n",
       "      <td>23.655084</td>\n",
       "      <td>61.886460</td>\n",
       "      <td>12.799395</td>\n",
       "      <td>36.021955</td>\n",
       "      <td>155.552177</td>\n",
       "      <td>191.574132</td>\n",
       "    </tr>\n",
       "    <tr>\n",
       "      <th>std</th>\n",
       "      <td>1.116174</td>\n",
       "      <td>0.166599</td>\n",
       "      <td>0.466159</td>\n",
       "      <td>0.633839</td>\n",
       "      <td>7.79159</td>\n",
       "      <td>8.474601</td>\n",
       "      <td>19.245033</td>\n",
       "      <td>8.164537</td>\n",
       "      <td>49.960477</td>\n",
       "      <td>151.039033</td>\n",
       "      <td>181.144454</td>\n",
       "    </tr>\n",
       "    <tr>\n",
       "      <th>min</th>\n",
       "      <td>1.000000</td>\n",
       "      <td>0.000000</td>\n",
       "      <td>0.000000</td>\n",
       "      <td>1.000000</td>\n",
       "      <td>0.82000</td>\n",
       "      <td>0.760000</td>\n",
       "      <td>0.000000</td>\n",
       "      <td>0.000000</td>\n",
       "      <td>0.000000</td>\n",
       "      <td>0.000000</td>\n",
       "      <td>1.000000</td>\n",
       "    </tr>\n",
       "    <tr>\n",
       "      <th>25%</th>\n",
       "      <td>2.000000</td>\n",
       "      <td>0.000000</td>\n",
       "      <td>0.000000</td>\n",
       "      <td>1.000000</td>\n",
       "      <td>13.94000</td>\n",
       "      <td>16.665000</td>\n",
       "      <td>47.000000</td>\n",
       "      <td>7.001500</td>\n",
       "      <td>4.000000</td>\n",
       "      <td>36.000000</td>\n",
       "      <td>42.000000</td>\n",
       "    </tr>\n",
       "    <tr>\n",
       "      <th>50%</th>\n",
       "      <td>3.000000</td>\n",
       "      <td>0.000000</td>\n",
       "      <td>1.000000</td>\n",
       "      <td>1.000000</td>\n",
       "      <td>20.50000</td>\n",
       "      <td>24.240000</td>\n",
       "      <td>62.000000</td>\n",
       "      <td>12.998000</td>\n",
       "      <td>17.000000</td>\n",
       "      <td>118.000000</td>\n",
       "      <td>145.000000</td>\n",
       "    </tr>\n",
       "    <tr>\n",
       "      <th>75%</th>\n",
       "      <td>4.000000</td>\n",
       "      <td>0.000000</td>\n",
       "      <td>1.000000</td>\n",
       "      <td>2.000000</td>\n",
       "      <td>26.24000</td>\n",
       "      <td>31.060000</td>\n",
       "      <td>77.000000</td>\n",
       "      <td>16.997900</td>\n",
       "      <td>49.000000</td>\n",
       "      <td>222.000000</td>\n",
       "      <td>284.000000</td>\n",
       "    </tr>\n",
       "    <tr>\n",
       "      <th>max</th>\n",
       "      <td>4.000000</td>\n",
       "      <td>1.000000</td>\n",
       "      <td>1.000000</td>\n",
       "      <td>4.000000</td>\n",
       "      <td>41.00000</td>\n",
       "      <td>45.455000</td>\n",
       "      <td>100.000000</td>\n",
       "      <td>56.996900</td>\n",
       "      <td>367.000000</td>\n",
       "      <td>886.000000</td>\n",
       "      <td>977.000000</td>\n",
       "    </tr>\n",
       "  </tbody>\n",
       "</table>\n",
       "</div>"
      ],
      "text/plain": [
       "             season       holiday    workingday       weather         temp  \\\n",
       "count  10886.000000  10886.000000  10886.000000  10886.000000  10886.00000   \n",
       "mean       2.506614      0.028569      0.680875      1.418427     20.23086   \n",
       "std        1.116174      0.166599      0.466159      0.633839      7.79159   \n",
       "min        1.000000      0.000000      0.000000      1.000000      0.82000   \n",
       "25%        2.000000      0.000000      0.000000      1.000000     13.94000   \n",
       "50%        3.000000      0.000000      1.000000      1.000000     20.50000   \n",
       "75%        4.000000      0.000000      1.000000      2.000000     26.24000   \n",
       "max        4.000000      1.000000      1.000000      4.000000     41.00000   \n",
       "\n",
       "              atemp      humidity     windspeed        casual    registered  \\\n",
       "count  10886.000000  10886.000000  10886.000000  10886.000000  10886.000000   \n",
       "mean      23.655084     61.886460     12.799395     36.021955    155.552177   \n",
       "std        8.474601     19.245033      8.164537     49.960477    151.039033   \n",
       "min        0.760000      0.000000      0.000000      0.000000      0.000000   \n",
       "25%       16.665000     47.000000      7.001500      4.000000     36.000000   \n",
       "50%       24.240000     62.000000     12.998000     17.000000    118.000000   \n",
       "75%       31.060000     77.000000     16.997900     49.000000    222.000000   \n",
       "max       45.455000    100.000000     56.996900    367.000000    886.000000   \n",
       "\n",
       "              count  \n",
       "count  10886.000000  \n",
       "mean     191.574132  \n",
       "std      181.144454  \n",
       "min        1.000000  \n",
       "25%       42.000000  \n",
       "50%      145.000000  \n",
       "75%      284.000000  \n",
       "max      977.000000  "
      ]
     },
     "execution_count": 5,
     "metadata": {},
     "output_type": "execute_result"
    }
   ],
   "source": [
    "df.describe()"
   ]
  },
  {
   "cell_type": "code",
   "execution_count": 6,
   "id": "228ddc9f",
   "metadata": {},
   "outputs": [
    {
     "data": {
      "text/plain": [
       "datetime      0\n",
       "season        0\n",
       "holiday       0\n",
       "workingday    0\n",
       "weather       0\n",
       "temp          0\n",
       "atemp         0\n",
       "humidity      0\n",
       "windspeed     0\n",
       "casual        0\n",
       "registered    0\n",
       "count         0\n",
       "dtype: int64"
      ]
     },
     "execution_count": 6,
     "metadata": {},
     "output_type": "execute_result"
    }
   ],
   "source": [
    "# Number of Null Datapoints in each Column\n",
    "df.isna().sum(axis = 0)"
   ]
  },
  {
   "cell_type": "code",
   "execution_count": 7,
   "id": "64ea7053",
   "metadata": {},
   "outputs": [
    {
     "data": {
      "text/plain": [
       "Index(['datetime', 'season', 'holiday', 'workingday', 'weather', 'temp',\n",
       "       'atemp', 'humidity', 'windspeed', 'casual', 'registered', 'count'],\n",
       "      dtype='object')"
      ]
     },
     "execution_count": 7,
     "metadata": {},
     "output_type": "execute_result"
    }
   ],
   "source": [
    "df.columns"
   ]
  },
  {
   "cell_type": "markdown",
   "id": "fb916a23",
   "metadata": {},
   "source": [
    "### Datetime"
   ]
  },
  {
   "cell_type": "code",
   "execution_count": 8,
   "id": "d5bbeced",
   "metadata": {},
   "outputs": [
    {
     "data": {
      "text/plain": [
       "2012    5464\n",
       "2011    5422\n",
       "Name: datetime, dtype: int64"
      ]
     },
     "execution_count": 8,
     "metadata": {},
     "output_type": "execute_result"
    }
   ],
   "source": [
    "# these are the counts of records \n",
    "df['datetime'] = pd.to_datetime(df['datetime'], format='%Y-%m-%d %H:%M:%S')\n",
    "df['datetime'].dt.year.value_counts()"
   ]
  },
  {
   "cell_type": "code",
   "execution_count": 9,
   "id": "2b9ae246",
   "metadata": {},
   "outputs": [
    {
     "data": {
      "text/html": [
       "<div>\n",
       "<style scoped>\n",
       "    .dataframe tbody tr th:only-of-type {\n",
       "        vertical-align: middle;\n",
       "    }\n",
       "\n",
       "    .dataframe tbody tr th {\n",
       "        vertical-align: top;\n",
       "    }\n",
       "\n",
       "    .dataframe thead th {\n",
       "        text-align: right;\n",
       "    }\n",
       "</style>\n",
       "<table border=\"1\" class=\"dataframe\">\n",
       "  <thead>\n",
       "    <tr style=\"text-align: right;\">\n",
       "      <th></th>\n",
       "      <th>datetime</th>\n",
       "      <th>month</th>\n",
       "      <th>count</th>\n",
       "    </tr>\n",
       "  </thead>\n",
       "  <tbody>\n",
       "    <tr>\n",
       "      <th>0</th>\n",
       "      <td>2011</td>\n",
       "      <td>April</td>\n",
       "      <td>455</td>\n",
       "    </tr>\n",
       "    <tr>\n",
       "      <th>1</th>\n",
       "      <td>2011</td>\n",
       "      <td>August</td>\n",
       "      <td>456</td>\n",
       "    </tr>\n",
       "    <tr>\n",
       "      <th>2</th>\n",
       "      <td>2011</td>\n",
       "      <td>December</td>\n",
       "      <td>456</td>\n",
       "    </tr>\n",
       "    <tr>\n",
       "      <th>3</th>\n",
       "      <td>2011</td>\n",
       "      <td>February</td>\n",
       "      <td>446</td>\n",
       "    </tr>\n",
       "    <tr>\n",
       "      <th>4</th>\n",
       "      <td>2011</td>\n",
       "      <td>January</td>\n",
       "      <td>431</td>\n",
       "    </tr>\n",
       "    <tr>\n",
       "      <th>5</th>\n",
       "      <td>2011</td>\n",
       "      <td>July</td>\n",
       "      <td>456</td>\n",
       "    </tr>\n",
       "    <tr>\n",
       "      <th>6</th>\n",
       "      <td>2011</td>\n",
       "      <td>June</td>\n",
       "      <td>456</td>\n",
       "    </tr>\n",
       "    <tr>\n",
       "      <th>7</th>\n",
       "      <td>2011</td>\n",
       "      <td>March</td>\n",
       "      <td>446</td>\n",
       "    </tr>\n",
       "    <tr>\n",
       "      <th>8</th>\n",
       "      <td>2011</td>\n",
       "      <td>May</td>\n",
       "      <td>456</td>\n",
       "    </tr>\n",
       "    <tr>\n",
       "      <th>9</th>\n",
       "      <td>2011</td>\n",
       "      <td>November</td>\n",
       "      <td>456</td>\n",
       "    </tr>\n",
       "    <tr>\n",
       "      <th>10</th>\n",
       "      <td>2011</td>\n",
       "      <td>October</td>\n",
       "      <td>455</td>\n",
       "    </tr>\n",
       "    <tr>\n",
       "      <th>11</th>\n",
       "      <td>2011</td>\n",
       "      <td>September</td>\n",
       "      <td>453</td>\n",
       "    </tr>\n",
       "    <tr>\n",
       "      <th>12</th>\n",
       "      <td>2012</td>\n",
       "      <td>April</td>\n",
       "      <td>454</td>\n",
       "    </tr>\n",
       "    <tr>\n",
       "      <th>13</th>\n",
       "      <td>2012</td>\n",
       "      <td>August</td>\n",
       "      <td>456</td>\n",
       "    </tr>\n",
       "    <tr>\n",
       "      <th>14</th>\n",
       "      <td>2012</td>\n",
       "      <td>December</td>\n",
       "      <td>456</td>\n",
       "    </tr>\n",
       "    <tr>\n",
       "      <th>15</th>\n",
       "      <td>2012</td>\n",
       "      <td>February</td>\n",
       "      <td>455</td>\n",
       "    </tr>\n",
       "    <tr>\n",
       "      <th>16</th>\n",
       "      <td>2012</td>\n",
       "      <td>January</td>\n",
       "      <td>453</td>\n",
       "    </tr>\n",
       "    <tr>\n",
       "      <th>17</th>\n",
       "      <td>2012</td>\n",
       "      <td>July</td>\n",
       "      <td>456</td>\n",
       "    </tr>\n",
       "    <tr>\n",
       "      <th>18</th>\n",
       "      <td>2012</td>\n",
       "      <td>June</td>\n",
       "      <td>456</td>\n",
       "    </tr>\n",
       "    <tr>\n",
       "      <th>19</th>\n",
       "      <td>2012</td>\n",
       "      <td>March</td>\n",
       "      <td>455</td>\n",
       "    </tr>\n",
       "    <tr>\n",
       "      <th>20</th>\n",
       "      <td>2012</td>\n",
       "      <td>May</td>\n",
       "      <td>456</td>\n",
       "    </tr>\n",
       "    <tr>\n",
       "      <th>21</th>\n",
       "      <td>2012</td>\n",
       "      <td>November</td>\n",
       "      <td>455</td>\n",
       "    </tr>\n",
       "    <tr>\n",
       "      <th>22</th>\n",
       "      <td>2012</td>\n",
       "      <td>October</td>\n",
       "      <td>456</td>\n",
       "    </tr>\n",
       "    <tr>\n",
       "      <th>23</th>\n",
       "      <td>2012</td>\n",
       "      <td>September</td>\n",
       "      <td>456</td>\n",
       "    </tr>\n",
       "  </tbody>\n",
       "</table>\n",
       "</div>"
      ],
      "text/plain": [
       "    datetime      month  count\n",
       "0       2011      April    455\n",
       "1       2011     August    456\n",
       "2       2011   December    456\n",
       "3       2011   February    446\n",
       "4       2011    January    431\n",
       "5       2011       July    456\n",
       "6       2011       June    456\n",
       "7       2011      March    446\n",
       "8       2011        May    456\n",
       "9       2011   November    456\n",
       "10      2011    October    455\n",
       "11      2011  September    453\n",
       "12      2012      April    454\n",
       "13      2012     August    456\n",
       "14      2012   December    456\n",
       "15      2012   February    455\n",
       "16      2012    January    453\n",
       "17      2012       July    456\n",
       "18      2012       June    456\n",
       "19      2012      March    455\n",
       "20      2012        May    456\n",
       "21      2012   November    455\n",
       "22      2012    October    456\n",
       "23      2012  September    456"
      ]
     },
     "execution_count": 9,
     "metadata": {},
     "output_type": "execute_result"
    }
   ],
   "source": [
    "#\n",
    "c=pd.DataFrame(df.groupby([df['datetime'].dt.year,df['datetime'].dt.month_name()])['count'].count())\n",
    "c.reset_index(level=1,inplace=True)\n",
    "c=c.rename(columns={'datetime':'month'}).reset_index()\n",
    "c"
   ]
  },
  {
   "cell_type": "markdown",
   "id": "acd3c3c8",
   "metadata": {},
   "source": [
    "count of records of each year and with there months\n",
    "\n",
    "these are counts of each record for each year and month"
   ]
  },
  {
   "cell_type": "code",
   "execution_count": 10,
   "id": "c89004fa",
   "metadata": {},
   "outputs": [
    {
     "data": {
      "text/plain": [
       "datetime  datetime \n",
       "2011      April         50517\n",
       "          August        83296\n",
       "          December      61183\n",
       "          February      32844\n",
       "          January       23552\n",
       "          July          92848\n",
       "          June          89776\n",
       "          March         38735\n",
       "          May           79713\n",
       "          November      70889\n",
       "          October       79522\n",
       "          September     79104\n",
       "2012      April        116885\n",
       "          August       130220\n",
       "          December      98977\n",
       "          February      66269\n",
       "          January       56332\n",
       "          July         121769\n",
       "          June         130957\n",
       "          March         94766\n",
       "          May          120434\n",
       "          November     105551\n",
       "          October      127912\n",
       "          September    133425\n",
       "Name: count, dtype: int64"
      ]
     },
     "execution_count": 10,
     "metadata": {},
     "output_type": "execute_result"
    }
   ],
   "source": [
    "df.groupby([df['datetime'].dt.year,df['datetime'].dt.month_name()])['count'].sum()"
   ]
  },
  {
   "cell_type": "markdown",
   "id": "972b4696",
   "metadata": {},
   "source": [
    "These are the sum of counts for each year and there months"
   ]
  },
  {
   "cell_type": "code",
   "execution_count": 11,
   "id": "63483a86",
   "metadata": {},
   "outputs": [
    {
     "data": {
      "text/plain": [
       "<AxesSubplot:xlabel='month', ylabel='count'>"
      ]
     },
     "execution_count": 11,
     "metadata": {},
     "output_type": "execute_result"
    },
    {
     "data": {
      "image/png": "[encoded data removed]",
      "text/plain": [
       "<Figure size 1080x576 with 1 Axes>"
      ]
     },
     "metadata": {
      "needs_background": "light"
     },
     "output_type": "display_data"
    }
   ],
   "source": [
    "df_year_month=pd.DataFrame(df.groupby([df['datetime'].dt.year,df['datetime'].dt.month])['count'].sum())\n",
    "df_year_month.reset_index(level=1,inplace=True)\n",
    "df_year_month=df_year_month.rename(columns={'datetime':'month'}).reset_index()\n",
    "plt.figure(figsize=(15,8))\n",
    "sns.barplot(data=df_year_month,x=df_year_month['month'],y=df_year_month['count'],hue=df_year_month['datetime'])"
   ]
  },
  {
   "cell_type": "markdown",
   "id": "9bb4c4a5",
   "metadata": {},
   "source": [
    "sum of count of total rental bikes in 2012 for all the months  >  sum of count of total rental bikes in 2011 for all the months\n",
    "\n",
    "as we can see a incresing trends for each months \n",
    "\n",
    "max at 9th month  Sept\n",
    "\n",
    "min at 1st month Jan"
   ]
  },
  {
   "cell_type": "code",
   "execution_count": 12,
   "id": "aff260c1",
   "metadata": {},
   "outputs": [
    {
     "name": "stdout",
     "output_type": "stream",
     "text": [
      "The Data set ranges from 2012-12-19 to 2011-01-01\n"
     ]
    }
   ],
   "source": [
    "df['datetime'] = pd.to_datetime(df['datetime'])\n",
    "max_date = df['datetime'].max().date()\n",
    "min_date = df['datetime'].min().date()\n",
    "print(f'The Data set ranges from {max_date} to {min_date}')"
   ]
  },
  {
   "cell_type": "code",
   "execution_count": 13,
   "id": "9e4edefe",
   "metadata": {},
   "outputs": [
    {
     "data": {
      "image/png": "[encoded data removed]",
      "text/plain": [
       "<Figure size 432x288 with 1 Axes>"
      ]
     },
     "metadata": {
      "needs_background": "light"
     },
     "output_type": "display_data"
    }
   ],
   "source": [
    "df['month'] = df['datetime'].dt.month\n",
    "df['year'] = df['datetime'].dt.year\n",
    "\n",
    "d = df.groupby(['year', 'month']).sum()['count'].reset_index()\n",
    "d['month_year'] = d['month'].astype(str) +'-'+ d['year'].astype(str)\n",
    "\n",
    "sns.lineplot(x = d['month_year'], y = d['count'] )\n",
    "plt.xticks(rotation = 90)\n",
    "plt.title('Count of bikes rented Every Month - Year ')\n",
    "plt.show()"
   ]
  },
  {
   "cell_type": "code",
   "execution_count": 14,
   "id": "a134ce9b",
   "metadata": {},
   "outputs": [
    {
     "data": {
      "image/png": "[encoded data removed]",
      "text/plain": [
       "<Figure size 432x288 with 1 Axes>"
      ]
     },
     "metadata": {
      "needs_background": "light"
     },
     "output_type": "display_data"
    }
   ],
   "source": [
    "d = df.groupby(['year', 'month']).sum()['registered'].reset_index()\n",
    "d['month_year'] = d['month'].astype(str) +'-'+ d['year'].astype(str)\n",
    "sns.lineplot(x = d['month_year'], y = d['registered'], label = 'Registered')\n",
    "\n",
    "d = df.groupby(['year', 'month']).sum()['casual'].reset_index()\n",
    "d['month_year'] = d['month'].astype(str) +'-'+ d['year'].astype(str)\n",
    "sns.lineplot(x = d['month_year'], y = d['casual'], label = 'Casual')\n",
    "\n",
    "plt.xticks(rotation = 90)\n",
    "plt.title('Count of Registered and Casual bikes rented Every Month - Year ')\n",
    "plt.ylabel('Count')\n",
    "plt.legend()\n",
    "plt.show()"
   ]
  },
  {
   "cell_type": "markdown",
   "id": "4dc9b625",
   "metadata": {},
   "source": [
    "There is no monotonous increase in the count of bike rentals \n",
    "\n",
    "we can see that some months perform poor \n",
    "\n",
    "The count of Casual Registered bikes is increasing where as the count of Casual bikes has almost remained the in the same range"
   ]
  },
  {
   "cell_type": "markdown",
   "id": "ac75bd91",
   "metadata": {},
   "source": [
    "### Season"
   ]
  },
  {
   "cell_type": "code",
   "execution_count": 15,
   "id": "d3abc845",
   "metadata": {},
   "outputs": [
    {
     "name": "stderr",
     "output_type": "stream",
     "text": [
      "C:\\Users\\Abhilash\\anaconda3\\lib\\site-packages\\seaborn\\_decorators.py:36: FutureWarning: Pass the following variable as a keyword arg: x. From version 0.12, the only valid positional argument will be `data`, and passing other arguments without an explicit keyword will result in an error or misinterpretation.\n",
      "  warnings.warn(\n"
     ]
    },
    {
     "data": {
      "text/plain": [
       "<AxesSubplot:xlabel='season', ylabel='count'>"
      ]
     },
     "execution_count": 15,
     "metadata": {},
     "output_type": "execute_result"
    },
    {
     "data": {
      "image/png": "[encoded data removed]",
      "text/plain": [
       "<Figure size 432x288 with 1 Axes>"
      ]
     },
     "metadata": {
      "needs_background": "light"
     },
     "output_type": "display_data"
    }
   ],
   "source": [
    "#These are the record counts\n",
    "sns.countplot(df['season'])"
   ]
  },
  {
   "cell_type": "code",
   "execution_count": 16,
   "id": "69ff2f6c",
   "metadata": {},
   "outputs": [
    {
     "data": {
      "text/plain": [
       "4    2734\n",
       "2    2733\n",
       "3    2733\n",
       "1    2686\n",
       "Name: season, dtype: int64"
      ]
     },
     "execution_count": 16,
     "metadata": {},
     "output_type": "execute_result"
    }
   ],
   "source": [
    "df['season'].value_counts()"
   ]
  },
  {
   "cell_type": "code",
   "execution_count": 17,
   "id": "e8b1c1b4",
   "metadata": {},
   "outputs": [
    {
     "data": {
      "text/html": [
       "<div>\n",
       "<style scoped>\n",
       "    .dataframe tbody tr th:only-of-type {\n",
       "        vertical-align: middle;\n",
       "    }\n",
       "\n",
       "    .dataframe tbody tr th {\n",
       "        vertical-align: top;\n",
       "    }\n",
       "\n",
       "    .dataframe thead th {\n",
       "        text-align: right;\n",
       "    }\n",
       "</style>\n",
       "<table border=\"1\" class=\"dataframe\">\n",
       "  <thead>\n",
       "    <tr style=\"text-align: right;\">\n",
       "      <th></th>\n",
       "      <th>season</th>\n",
       "      <th>count</th>\n",
       "    </tr>\n",
       "  </thead>\n",
       "  <tbody>\n",
       "    <tr>\n",
       "      <th>0</th>\n",
       "      <td>1</td>\n",
       "      <td>312498</td>\n",
       "    </tr>\n",
       "    <tr>\n",
       "      <th>1</th>\n",
       "      <td>2</td>\n",
       "      <td>588282</td>\n",
       "    </tr>\n",
       "    <tr>\n",
       "      <th>2</th>\n",
       "      <td>3</td>\n",
       "      <td>640662</td>\n",
       "    </tr>\n",
       "    <tr>\n",
       "      <th>3</th>\n",
       "      <td>4</td>\n",
       "      <td>544034</td>\n",
       "    </tr>\n",
       "  </tbody>\n",
       "</table>\n",
       "</div>"
      ],
      "text/plain": [
       "   season   count\n",
       "0       1  312498\n",
       "1       2  588282\n",
       "2       3  640662\n",
       "3       4  544034"
      ]
     },
     "execution_count": 17,
     "metadata": {},
     "output_type": "execute_result"
    }
   ],
   "source": [
    "df_season=df.groupby(df['season'])['count'].sum().reset_index()\n",
    "df_season"
   ]
  },
  {
   "cell_type": "code",
   "execution_count": 18,
   "id": "33fac782",
   "metadata": {},
   "outputs": [
    {
     "data": {
      "text/plain": [
       "<AxesSubplot:xlabel='season', ylabel='count'>"
      ]
     },
     "execution_count": 18,
     "metadata": {},
     "output_type": "execute_result"
    },
    {
     "data": {
      "image/png": "[encoded data removed]",
      "text/plain": [
       "<Figure size 432x288 with 1 Axes>"
      ]
     },
     "metadata": {
      "needs_background": "light"
     },
     "output_type": "display_data"
    }
   ],
   "source": [
    "sns.barplot(data=df_season,x='season',y='count')"
   ]
  },
  {
   "cell_type": "markdown",
   "id": "c4474710",
   "metadata": {},
   "source": [
    "Most number of the bike rentals happens in season 3 ie fall season \n",
    "\n",
    "less numer of the bike rentals happens in season 1 ie spring\n",
    "\n",
    "(1: spring, 2: summer, 3: fall, 4: winter)\n"
   ]
  },
  {
   "cell_type": "markdown",
   "id": "f3fef81e",
   "metadata": {},
   "source": [
    "### Holiday"
   ]
  },
  {
   "cell_type": "code",
   "execution_count": 19,
   "id": "5af2350d",
   "metadata": {},
   "outputs": [
    {
     "data": {
      "text/plain": [
       "0    10575\n",
       "1      311\n",
       "Name: holiday, dtype: int64"
      ]
     },
     "execution_count": 19,
     "metadata": {},
     "output_type": "execute_result"
    }
   ],
   "source": [
    "df['holiday'].value_counts()"
   ]
  },
  {
   "cell_type": "code",
   "execution_count": 20,
   "id": "a45ee745",
   "metadata": {},
   "outputs": [
    {
     "data": {
      "text/html": [
       "<div>\n",
       "<style scoped>\n",
       "    .dataframe tbody tr th:only-of-type {\n",
       "        vertical-align: middle;\n",
       "    }\n",
       "\n",
       "    .dataframe tbody tr th {\n",
       "        vertical-align: top;\n",
       "    }\n",
       "\n",
       "    .dataframe thead th {\n",
       "        text-align: right;\n",
       "    }\n",
       "</style>\n",
       "<table border=\"1\" class=\"dataframe\">\n",
       "  <thead>\n",
       "    <tr style=\"text-align: right;\">\n",
       "      <th></th>\n",
       "      <th>holiday</th>\n",
       "      <th>count</th>\n",
       "    </tr>\n",
       "  </thead>\n",
       "  <tbody>\n",
       "    <tr>\n",
       "      <th>0</th>\n",
       "      <td>0</td>\n",
       "      <td>2027668</td>\n",
       "    </tr>\n",
       "    <tr>\n",
       "      <th>1</th>\n",
       "      <td>1</td>\n",
       "      <td>57808</td>\n",
       "    </tr>\n",
       "  </tbody>\n",
       "</table>\n",
       "</div>"
      ],
      "text/plain": [
       "   holiday    count\n",
       "0        0  2027668\n",
       "1        1    57808"
      ]
     },
     "execution_count": 20,
     "metadata": {},
     "output_type": "execute_result"
    }
   ],
   "source": [
    "df_holiday=df.groupby(df['holiday'])['count'].sum().reset_index()\n",
    "df_holiday"
   ]
  },
  {
   "cell_type": "code",
   "execution_count": 21,
   "id": "b81ce961",
   "metadata": {},
   "outputs": [
    {
     "data": {
      "text/plain": [
       "<AxesSubplot:xlabel='holiday', ylabel='count'>"
      ]
     },
     "execution_count": 21,
     "metadata": {},
     "output_type": "execute_result"
    },
    {
     "data": {
      "image/png": "[encoded data removed]",
      "text/plain": [
       "<Figure size 576x360 with 1 Axes>"
      ]
     },
     "metadata": {
      "needs_background": "light"
     },
     "output_type": "display_data"
    }
   ],
   "source": [
    "plt.figure(figsize=(8,5))\n",
    "sns.barplot(data=df_holiday,x='holiday',y='count')"
   ]
  },
  {
   "cell_type": "markdown",
   "id": "b711df65",
   "metadata": {},
   "source": [
    "0 means there is no holiday \n",
    "\n",
    "1 means there is a holiday \n",
    "\n",
    "As per this plot count of total bike rentals happens when there is no holiday"
   ]
  },
  {
   "cell_type": "code",
   "execution_count": null,
   "id": "70a86f58",
   "metadata": {},
   "outputs": [],
   "source": []
  },
  {
   "cell_type": "markdown",
   "id": "84af7640",
   "metadata": {},
   "source": [
    "### WorkingDay"
   ]
  },
  {
   "cell_type": "code",
   "execution_count": 22,
   "id": "36ca1ef4",
   "metadata": {},
   "outputs": [
    {
     "data": {
      "text/plain": [
       "1    7412\n",
       "0    3474\n",
       "Name: workingday, dtype: int64"
      ]
     },
     "execution_count": 22,
     "metadata": {},
     "output_type": "execute_result"
    }
   ],
   "source": [
    "df['workingday'].value_counts()"
   ]
  },
  {
   "cell_type": "code",
   "execution_count": 23,
   "id": "aac7227e",
   "metadata": {},
   "outputs": [
    {
     "data": {
      "text/html": [
       "<div>\n",
       "<style scoped>\n",
       "    .dataframe tbody tr th:only-of-type {\n",
       "        vertical-align: middle;\n",
       "    }\n",
       "\n",
       "    .dataframe tbody tr th {\n",
       "        vertical-align: top;\n",
       "    }\n",
       "\n",
       "    .dataframe thead th {\n",
       "        text-align: right;\n",
       "    }\n",
       "</style>\n",
       "<table border=\"1\" class=\"dataframe\">\n",
       "  <thead>\n",
       "    <tr style=\"text-align: right;\">\n",
       "      <th></th>\n",
       "      <th>workingday</th>\n",
       "      <th>count</th>\n",
       "    </tr>\n",
       "  </thead>\n",
       "  <tbody>\n",
       "    <tr>\n",
       "      <th>0</th>\n",
       "      <td>0</td>\n",
       "      <td>654872</td>\n",
       "    </tr>\n",
       "    <tr>\n",
       "      <th>1</th>\n",
       "      <td>1</td>\n",
       "      <td>1430604</td>\n",
       "    </tr>\n",
       "  </tbody>\n",
       "</table>\n",
       "</div>"
      ],
      "text/plain": [
       "   workingday    count\n",
       "0           0   654872\n",
       "1           1  1430604"
      ]
     },
     "execution_count": 23,
     "metadata": {},
     "output_type": "execute_result"
    }
   ],
   "source": [
    "df_work=df.groupby(df['workingday'])['count'].sum().reset_index()\n",
    "df_work"
   ]
  },
  {
   "cell_type": "code",
   "execution_count": 24,
   "id": "6f3de4c1",
   "metadata": {},
   "outputs": [
    {
     "data": {
      "text/plain": [
       "<AxesSubplot:xlabel='workingday', ylabel='count'>"
      ]
     },
     "execution_count": 24,
     "metadata": {},
     "output_type": "execute_result"
    },
    {
     "data": {
      "image/png": "[encoded data removed]",
      "text/plain": [
       "<Figure size 576x360 with 1 Axes>"
      ]
     },
     "metadata": {
      "needs_background": "light"
     },
     "output_type": "display_data"
    }
   ],
   "source": [
    "plt.figure(figsize=(8,5))\n",
    "sns.barplot(data=df_work,x='workingday',y='count')"
   ]
  },
  {
   "cell_type": "markdown",
   "id": "c8f46c64",
   "metadata": {},
   "source": [
    "1 : if neither a holiday or a weekend \n",
    "\n",
    "0: its either a holiday or a weekend\n",
    "\n",
    "As per this plot count of total bike rentals happens when there is no holiday ie on working days"
   ]
  },
  {
   "cell_type": "code",
   "execution_count": 25,
   "id": "064ab965",
   "metadata": {},
   "outputs": [],
   "source": [
    "# since there working day and holiday are dependent lets see this\n"
   ]
  },
  {
   "cell_type": "code",
   "execution_count": 26,
   "id": "a5915ac3",
   "metadata": {},
   "outputs": [
    {
     "data": {
      "text/html": [
       "<div>\n",
       "<style scoped>\n",
       "    .dataframe tbody tr th:only-of-type {\n",
       "        vertical-align: middle;\n",
       "    }\n",
       "\n",
       "    .dataframe tbody tr th {\n",
       "        vertical-align: top;\n",
       "    }\n",
       "\n",
       "    .dataframe thead th {\n",
       "        text-align: right;\n",
       "    }\n",
       "</style>\n",
       "<table border=\"1\" class=\"dataframe\">\n",
       "  <thead>\n",
       "    <tr style=\"text-align: right;\">\n",
       "      <th></th>\n",
       "      <th>holiday</th>\n",
       "      <th>workingday</th>\n",
       "      <th>count</th>\n",
       "    </tr>\n",
       "  </thead>\n",
       "  <tbody>\n",
       "    <tr>\n",
       "      <th>0</th>\n",
       "      <td>not a holiday</td>\n",
       "      <td>not a working day</td>\n",
       "      <td>597064</td>\n",
       "    </tr>\n",
       "    <tr>\n",
       "      <th>1</th>\n",
       "      <td>not a holiday</td>\n",
       "      <td>working day</td>\n",
       "      <td>1430604</td>\n",
       "    </tr>\n",
       "    <tr>\n",
       "      <th>2</th>\n",
       "      <td>holiday</td>\n",
       "      <td>not a working day</td>\n",
       "      <td>57808</td>\n",
       "    </tr>\n",
       "  </tbody>\n",
       "</table>\n",
       "</div>"
      ],
      "text/plain": [
       "         holiday         workingday    count\n",
       "0  not a holiday  not a working day   597064\n",
       "1  not a holiday        working day  1430604\n",
       "2        holiday  not a working day    57808"
      ]
     },
     "execution_count": 26,
     "metadata": {},
     "output_type": "execute_result"
    }
   ],
   "source": [
    "df_info_h_w=df.groupby([df['holiday'],df['workingday']])['count'].sum().reset_index()\n",
    "df_info_h_w['holiday']=df_info_h_w['holiday'].apply(lambda x : \"holiday\" if(x==1) else \"not a holiday\")\n",
    "df_info_h_w['workingday']=df_info_h_w['workingday'].apply(lambda x : \"working day\" if(x==1) else \"not a working day\")\n",
    "df_info_h_w"
   ]
  },
  {
   "cell_type": "code",
   "execution_count": 27,
   "id": "6a57e7e6",
   "metadata": {},
   "outputs": [
    {
     "data": {
      "text/plain": [
       "<AxesSubplot:xlabel='workingday', ylabel='count'>"
      ]
     },
     "execution_count": 27,
     "metadata": {},
     "output_type": "execute_result"
    },
    {
     "data": {
      "image/png": "[encoded data removed]",
      "text/plain": [
       "<Figure size 432x288 with 1 Axes>"
      ]
     },
     "metadata": {
      "needs_background": "light"
     },
     "output_type": "display_data"
    }
   ],
   "source": [
    "sns.barplot(data=df_info_h_w,x='workingday',y='count',hue='holiday')"
   ]
  },
  {
   "cell_type": "code",
   "execution_count": 28,
   "id": "188b2425",
   "metadata": {},
   "outputs": [
    {
     "data": {
      "image/png": "[encoded data removed]",
      "text/plain": [
       "<Figure size 432x288 with 1 Axes>"
      ]
     },
     "metadata": {
      "needs_background": "light"
     },
     "output_type": "display_data"
    }
   ],
   "source": [
    "sns.boxplot(data = df, y = 'count', x = 'workingday')\n",
    "plt.title('Distribution of Count on Working and Non Working Day')\n",
    "plt.show()"
   ]
  },
  {
   "cell_type": "markdown",
   "id": "7b6a40ca",
   "metadata": {},
   "source": [
    "### Weather"
   ]
  },
  {
   "cell_type": "code",
   "execution_count": 29,
   "id": "914a0d14",
   "metadata": {},
   "outputs": [
    {
     "data": {
      "text/html": [
       "<div>\n",
       "<style scoped>\n",
       "    .dataframe tbody tr th:only-of-type {\n",
       "        vertical-align: middle;\n",
       "    }\n",
       "\n",
       "    .dataframe tbody tr th {\n",
       "        vertical-align: top;\n",
       "    }\n",
       "\n",
       "    .dataframe thead th {\n",
       "        text-align: right;\n",
       "    }\n",
       "</style>\n",
       "<table border=\"1\" class=\"dataframe\">\n",
       "  <thead>\n",
       "    <tr style=\"text-align: right;\">\n",
       "      <th></th>\n",
       "      <th>weather</th>\n",
       "      <th>count</th>\n",
       "    </tr>\n",
       "  </thead>\n",
       "  <tbody>\n",
       "    <tr>\n",
       "      <th>0</th>\n",
       "      <td>1</td>\n",
       "      <td>1476063</td>\n",
       "    </tr>\n",
       "    <tr>\n",
       "      <th>1</th>\n",
       "      <td>2</td>\n",
       "      <td>507160</td>\n",
       "    </tr>\n",
       "    <tr>\n",
       "      <th>2</th>\n",
       "      <td>3</td>\n",
       "      <td>102089</td>\n",
       "    </tr>\n",
       "    <tr>\n",
       "      <th>3</th>\n",
       "      <td>4</td>\n",
       "      <td>164</td>\n",
       "    </tr>\n",
       "  </tbody>\n",
       "</table>\n",
       "</div>"
      ],
      "text/plain": [
       "   weather    count\n",
       "0        1  1476063\n",
       "1        2   507160\n",
       "2        3   102089\n",
       "3        4      164"
      ]
     },
     "execution_count": 29,
     "metadata": {},
     "output_type": "execute_result"
    }
   ],
   "source": [
    "df_weather=df.groupby(df['weather'])['count'].sum().reset_index()\n",
    "df_weather"
   ]
  },
  {
   "cell_type": "code",
   "execution_count": 30,
   "id": "888dde53",
   "metadata": {},
   "outputs": [
    {
     "data": {
      "text/plain": [
       "<AxesSubplot:xlabel='weather', ylabel='count'>"
      ]
     },
     "execution_count": 30,
     "metadata": {},
     "output_type": "execute_result"
    },
    {
     "data": {
      "image/png": "[encoded data removed]",
      "text/plain": [
       "<Figure size 576x360 with 1 Axes>"
      ]
     },
     "metadata": {
      "needs_background": "light"
     },
     "output_type": "display_data"
    }
   ],
   "source": [
    "plt.figure(figsize=(8,5))\n",
    "sns.barplot(data=df_weather,x='weather',y='count')"
   ]
  },
  {
   "cell_type": "markdown",
   "id": "57bb1308",
   "metadata": {},
   "source": [
    "Most of the bike rental counts happens when the weather condition is 1: Clear, Few clouds, partly cloudy, partly cloudy"
   ]
  },
  {
   "cell_type": "markdown",
   "id": "e0d28d64",
   "metadata": {},
   "source": [
    "## Temperature"
   ]
  },
  {
   "cell_type": "code",
   "execution_count": 31,
   "id": "c954b39a",
   "metadata": {},
   "outputs": [
    {
     "data": {
      "text/plain": [
       "49"
      ]
     },
     "execution_count": 31,
     "metadata": {},
     "output_type": "execute_result"
    }
   ],
   "source": [
    "df['temp'].nunique()"
   ]
  },
  {
   "cell_type": "code",
   "execution_count": 32,
   "id": "56278aad",
   "metadata": {},
   "outputs": [
    {
     "name": "stderr",
     "output_type": "stream",
     "text": [
      "C:\\Users\\Abhilash\\anaconda3\\lib\\site-packages\\seaborn\\_decorators.py:36: FutureWarning: Pass the following variable as a keyword arg: x. From version 0.12, the only valid positional argument will be `data`, and passing other arguments without an explicit keyword will result in an error or misinterpretation.\n",
      "  warnings.warn(\n"
     ]
    },
    {
     "data": {
      "text/plain": [
       "<AxesSubplot:xlabel='temp'>"
      ]
     },
     "execution_count": 32,
     "metadata": {},
     "output_type": "execute_result"
    },
    {
     "data": {
      "image/png": "[encoded data removed]",
      "text/plain": [
       "<Figure size 432x288 with 1 Axes>"
      ]
     },
     "metadata": {
      "needs_background": "light"
     },
     "output_type": "display_data"
    }
   ],
   "source": [
    "sns.boxplot(df['temp'])"
   ]
  },
  {
   "cell_type": "code",
   "execution_count": 33,
   "id": "6dc1fadb",
   "metadata": {},
   "outputs": [
    {
     "data": {
      "text/plain": [
       "14.76    467\n",
       "26.24    453\n",
       "28.70    427\n",
       "13.94    413\n",
       "18.86    406\n",
       "22.14    403\n",
       "25.42    403\n",
       "16.40    400\n",
       "22.96    395\n",
       "27.06    394\n",
       "24.60    390\n",
       "12.30    385\n",
       "21.32    362\n",
       "13.12    356\n",
       "17.22    356\n",
       "29.52    353\n",
       "10.66    332\n",
       "18.04    328\n",
       "20.50    327\n",
       "30.34    299\n",
       "9.84     294\n",
       "15.58    255\n",
       "9.02     248\n",
       "31.16    242\n",
       "8.20     229\n",
       "27.88    224\n",
       "23.78    203\n",
       "32.80    202\n",
       "11.48    181\n",
       "19.68    170\n",
       "6.56     146\n",
       "33.62    130\n",
       "5.74     107\n",
       "7.38     106\n",
       "31.98     98\n",
       "34.44     80\n",
       "35.26     76\n",
       "4.92      60\n",
       "36.90     46\n",
       "4.10      44\n",
       "37.72     34\n",
       "36.08     23\n",
       "3.28      11\n",
       "0.82       7\n",
       "38.54      7\n",
       "39.36      6\n",
       "2.46       5\n",
       "1.64       2\n",
       "41.00      1\n",
       "Name: temp, dtype: int64"
      ]
     },
     "execution_count": 33,
     "metadata": {},
     "output_type": "execute_result"
    }
   ],
   "source": [
    "df['temp'].value_counts()"
   ]
  },
  {
   "cell_type": "code",
   "execution_count": 34,
   "id": "317637ad",
   "metadata": {},
   "outputs": [
    {
     "data": {
      "text/plain": [
       "<AxesSubplot:xlabel='temp', ylabel='Count'>"
      ]
     },
     "execution_count": 34,
     "metadata": {},
     "output_type": "execute_result"
    },
    {
     "data": {
      "image/png": "[encoded data removed]",
      "text/plain": [
       "<Figure size 432x288 with 1 Axes>"
      ]
     },
     "metadata": {
      "needs_background": "light"
     },
     "output_type": "display_data"
    }
   ],
   "source": [
    "sns.histplot(df['temp'],kde=True)"
   ]
  },
  {
   "cell_type": "code",
   "execution_count": 35,
   "id": "37c6599e",
   "metadata": {},
   "outputs": [
    {
     "data": {
      "text/plain": [
       "20.230859819952173"
      ]
     },
     "execution_count": 35,
     "metadata": {},
     "output_type": "execute_result"
    }
   ],
   "source": [
    "df['temp'].mean()"
   ]
  },
  {
   "cell_type": "code",
   "execution_count": 36,
   "id": "ef422203",
   "metadata": {},
   "outputs": [
    {
     "data": {
      "text/plain": [
       "0.82"
      ]
     },
     "execution_count": 36,
     "metadata": {},
     "output_type": "execute_result"
    }
   ],
   "source": [
    "df['temp'].min()"
   ]
  },
  {
   "cell_type": "code",
   "execution_count": 37,
   "id": "0bdb61c2",
   "metadata": {},
   "outputs": [
    {
     "data": {
      "text/plain": [
       "41.0"
      ]
     },
     "execution_count": 37,
     "metadata": {},
     "output_type": "execute_result"
    }
   ],
   "source": [
    "df['temp'].max()"
   ]
  },
  {
   "cell_type": "code",
   "execution_count": 38,
   "id": "a917cacb",
   "metadata": {},
   "outputs": [
    {
     "data": {
      "image/png": "[encoded data removed]",
      "text/plain": [
       "<Figure size 432x288 with 1 Axes>"
      ]
     },
     "metadata": {
      "needs_background": "light"
     },
     "output_type": "display_data"
    }
   ],
   "source": [
    "df['temp_cat'] = pd.cut(df['temp'], bins = [0, 10, 20, 30, 40, 45] )\n",
    "sns.barplot(data = df, x = 'temp_cat', y = 'count')\n",
    "plt.title('Temperature vs Count')\n",
    "plt.xlabel('Temperature Bins')\n",
    "plt.show()"
   ]
  },
  {
   "cell_type": "code",
   "execution_count": 39,
   "id": "dc9cc25a",
   "metadata": {},
   "outputs": [
    {
     "data": {
      "image/png": "[encoded data removed]",
      "text/plain": [
       "<Figure size 432x288 with 1 Axes>"
      ]
     },
     "metadata": {
      "needs_background": "light"
     },
     "output_type": "display_data"
    }
   ],
   "source": [
    "d = df.groupby(['year', 'month']).sum()['temp'].reset_index()\n",
    "d['month_year'] = d['month'].astype(str) +'-'+ d['year'].astype(str)\n",
    "\n",
    "sns.lineplot(x = d['month_year'], y = d['temp'] )\n",
    "plt.xticks(rotation = 90)\n",
    "plt.title('Temperature variations Every Month - Year ')\n",
    "plt.show()"
   ]
  },
  {
   "cell_type": "markdown",
   "id": "4180c850",
   "metadata": {},
   "source": [
    "The number of bikes rented was least on days when Temperature was in the range of (0-10]. \n",
    "\n",
    "The number of bikes rented was max on days when Temperature was in range (30-40].\n",
    "\n",
    "The Temperature went the all time low in the month of January 2012"
   ]
  },
  {
   "cell_type": "markdown",
   "id": "c142fa4e",
   "metadata": {},
   "source": [
    "### aTemperature (feeling Temperature)"
   ]
  },
  {
   "cell_type": "code",
   "execution_count": 40,
   "id": "a3f27a81",
   "metadata": {},
   "outputs": [
    {
     "data": {
      "text/plain": [
       "60"
      ]
     },
     "execution_count": 40,
     "metadata": {},
     "output_type": "execute_result"
    }
   ],
   "source": [
    "df['atemp'].nunique()"
   ]
  },
  {
   "cell_type": "code",
   "execution_count": 41,
   "id": "46070dc0",
   "metadata": {},
   "outputs": [
    {
     "name": "stderr",
     "output_type": "stream",
     "text": [
      "C:\\Users\\Abhilash\\anaconda3\\lib\\site-packages\\seaborn\\_decorators.py:36: FutureWarning: Pass the following variable as a keyword arg: x. From version 0.12, the only valid positional argument will be `data`, and passing other arguments without an explicit keyword will result in an error or misinterpretation.\n",
      "  warnings.warn(\n",
      "C:\\Users\\Abhilash\\anaconda3\\lib\\site-packages\\seaborn\\_core.py:1319: UserWarning: Vertical orientation ignored with only `x` specified.\n",
      "  warnings.warn(single_var_warning.format(\"Vertical\", \"x\"))\n"
     ]
    },
    {
     "data": {
      "text/plain": [
       "<AxesSubplot:xlabel='atemp'>"
      ]
     },
     "execution_count": 41,
     "metadata": {},
     "output_type": "execute_result"
    },
    {
     "data": {
      "image/png": "[encoded data removed]",
      "text/plain": [
       "<Figure size 432x288 with 1 Axes>"
      ]
     },
     "metadata": {
      "needs_background": "light"
     },
     "output_type": "display_data"
    }
   ],
   "source": [
    "sns.boxplot(df['atemp'],orient='v')"
   ]
  },
  {
   "cell_type": "code",
   "execution_count": 42,
   "id": "59c2d3a2",
   "metadata": {},
   "outputs": [
    {
     "data": {
      "text/plain": [
       "<AxesSubplot:xlabel='atemp', ylabel='Count'>"
      ]
     },
     "execution_count": 42,
     "metadata": {},
     "output_type": "execute_result"
    },
    {
     "data": {
      "image/png": "[encoded data removed]",
      "text/plain": [
       "<Figure size 432x288 with 1 Axes>"
      ]
     },
     "metadata": {
      "needs_background": "light"
     },
     "output_type": "display_data"
    }
   ],
   "source": [
    "sns.histplot(df['atemp'],kde=True)"
   ]
  },
  {
   "cell_type": "code",
   "execution_count": 43,
   "id": "3348e0d8",
   "metadata": {},
   "outputs": [
    {
     "data": {
      "text/plain": [
       "23.65508405291192"
      ]
     },
     "execution_count": 43,
     "metadata": {},
     "output_type": "execute_result"
    }
   ],
   "source": [
    "df['atemp'].mean()"
   ]
  },
  {
   "cell_type": "code",
   "execution_count": 44,
   "id": "acf586f8",
   "metadata": {},
   "outputs": [
    {
     "data": {
      "text/plain": [
       "0.76"
      ]
     },
     "execution_count": 44,
     "metadata": {},
     "output_type": "execute_result"
    }
   ],
   "source": [
    "df['atemp'].min()"
   ]
  },
  {
   "cell_type": "code",
   "execution_count": 45,
   "id": "08f3c934",
   "metadata": {},
   "outputs": [
    {
     "data": {
      "text/plain": [
       "45.455"
      ]
     },
     "execution_count": 45,
     "metadata": {},
     "output_type": "execute_result"
    }
   ],
   "source": [
    "df['atemp'].max()"
   ]
  },
  {
   "cell_type": "code",
   "execution_count": 46,
   "id": "3c8abe4c",
   "metadata": {},
   "outputs": [],
   "source": [
    "dfiff_temp_atemp=abs(df['temp']-df['atemp'])"
   ]
  },
  {
   "cell_type": "code",
   "execution_count": 47,
   "id": "33ab3501",
   "metadata": {},
   "outputs": [
    {
     "data": {
      "text/plain": [
       "<AxesSubplot:ylabel='Count'>"
      ]
     },
     "execution_count": 47,
     "metadata": {},
     "output_type": "execute_result"
    },
    {
     "data": {
      "image/png": "[encoded data removed]",
      "text/plain": [
       "<Figure size 576x360 with 1 Axes>"
      ]
     },
     "metadata": {
      "needs_background": "light"
     },
     "output_type": "display_data"
    }
   ],
   "source": [
    "plt.figure(figsize=(8,5))\n",
    "sns.histplot(dfiff_temp_atemp,kde=True)"
   ]
  },
  {
   "cell_type": "code",
   "execution_count": 48,
   "id": "bfaa2ec7",
   "metadata": {},
   "outputs": [],
   "source": [
    "# Converting the Continous variable into Categorical\n",
    "\n",
    "df['atemp_cat'] = pd.cut(df['atemp'], bins = [0, 10, 20, 30, 40, 50] )"
   ]
  },
  {
   "cell_type": "code",
   "execution_count": 49,
   "id": "18c590bf",
   "metadata": {},
   "outputs": [
    {
     "data": {
      "image/png": "[encoded data removed]",
      "text/plain": [
       "<Figure size 432x288 with 1 Axes>"
      ]
     },
     "metadata": {
      "needs_background": "light"
     },
     "output_type": "display_data"
    }
   ],
   "source": [
    "sns.barplot(data = df, x = 'atemp_cat', y = 'count')\n",
    "plt.title('aTemperature vs Count')\n",
    "plt.xlabel('aTemperature Bins')\n",
    "plt.show()"
   ]
  },
  {
   "cell_type": "code",
   "execution_count": null,
   "id": "9f395fc2",
   "metadata": {},
   "outputs": [],
   "source": []
  },
  {
   "cell_type": "code",
   "execution_count": 50,
   "id": "31402c8c",
   "metadata": {},
   "outputs": [
    {
     "data": {
      "image/png": "[encoded data removed]",
      "text/plain": [
       "<Figure size 432x288 with 1 Axes>"
      ]
     },
     "metadata": {
      "needs_background": "light"
     },
     "output_type": "display_data"
    }
   ],
   "source": [
    "d = df.groupby(['year', 'month']).sum()['atemp'].reset_index()\n",
    "d['month_year'] = d['month'].astype(str) +'-'+ d['year'].astype(str)\n",
    "\n",
    "sns.lineplot(x = d['month_year'], y = d['atemp'] )\n",
    "plt.xticks(rotation = 90)\n",
    "plt.title('aTemperature (feeling) Every Month - Year ')\n",
    "plt.show()"
   ]
  },
  {
   "cell_type": "markdown",
   "id": "0b06b25b",
   "metadata": {},
   "source": [
    "The average number of bikes rented was least on days when Temperature was in the range of (0-10]. \n",
    "\n",
    "The average number of bikes rented was maximum on days when Temperature was in range (40-50]"
   ]
  },
  {
   "cell_type": "markdown",
   "id": "3209bd3b",
   "metadata": {},
   "source": [
    "### Humidity"
   ]
  },
  {
   "cell_type": "code",
   "execution_count": 51,
   "id": "d73acc03",
   "metadata": {},
   "outputs": [
    {
     "name": "stderr",
     "output_type": "stream",
     "text": [
      "C:\\Users\\Abhilash\\anaconda3\\lib\\site-packages\\seaborn\\_decorators.py:36: FutureWarning: Pass the following variable as a keyword arg: x. From version 0.12, the only valid positional argument will be `data`, and passing other arguments without an explicit keyword will result in an error or misinterpretation.\n",
      "  warnings.warn(\n"
     ]
    },
    {
     "data": {
      "text/plain": [
       "<AxesSubplot:xlabel='humidity'>"
      ]
     },
     "execution_count": 51,
     "metadata": {},
     "output_type": "execute_result"
    },
    {
     "data": {
      "image/png": "[encoded data removed]",
      "text/plain": [
       "<Figure size 432x288 with 1 Axes>"
      ]
     },
     "metadata": {
      "needs_background": "light"
     },
     "output_type": "display_data"
    }
   ],
   "source": [
    "sns.boxplot(df['humidity'])"
   ]
  },
  {
   "cell_type": "markdown",
   "id": "53212ebb",
   "metadata": {},
   "source": [
    "There is some outliers "
   ]
  },
  {
   "cell_type": "code",
   "execution_count": 52,
   "id": "51e35c31",
   "metadata": {},
   "outputs": [
    {
     "data": {
      "text/plain": [
       "count    10886.000000\n",
       "mean        61.886460\n",
       "std         19.245033\n",
       "min          0.000000\n",
       "25%         47.000000\n",
       "50%         62.000000\n",
       "75%         77.000000\n",
       "max        100.000000\n",
       "Name: humidity, dtype: float64"
      ]
     },
     "execution_count": 52,
     "metadata": {},
     "output_type": "execute_result"
    }
   ],
   "source": [
    "df['humidity'].describe()"
   ]
  },
  {
   "cell_type": "code",
   "execution_count": 53,
   "id": "f68a7448",
   "metadata": {},
   "outputs": [],
   "source": [
    "def detetct_out(df,a):\n",
    "    q1=np.quantile(df[a],0.25)\n",
    "    q3=np.quantile(df[a],0.75)\n",
    "    low_end=q1-1.5*(q3-q1)\n",
    "    high_end=q3+1.5*(q3-q1)\n",
    "    b=df[df[a]>high_end][a].tolist()\n",
    "    c=df[df[a]<low_end][a].tolist()\n",
    "    b=set(b)\n",
    "    c=set(c)\n",
    "    print(\"Outliers\")\n",
    "    print(\"Outliers which has high values --->\",b)\n",
    "    print(\"---------------------------------------------------\")\n",
    "    print(\"Outliers which has low values --->\",c)\n",
    "def outlier(data):\n",
    "    '''\n",
    "    Function to Identify Outliers                                                                                                                            \n",
    "    '''\n",
    "    iqr = np.percentile(data, 75) - np.percentile(data, 25)\n",
    "    upper_limit = np.percentile(data, 75) + iqr*1.5 \n",
    "    lower_limit = np.percentile(data, 25) - iqr*1.5 \n",
    "    return data[(data<lower_limit) | (data>upper_limit)]"
   ]
  },
  {
   "cell_type": "code",
   "execution_count": null,
   "id": "ca047747",
   "metadata": {},
   "outputs": [],
   "source": []
  },
  {
   "cell_type": "code",
   "execution_count": 54,
   "id": "be589452",
   "metadata": {},
   "outputs": [
    {
     "name": "stdout",
     "output_type": "stream",
     "text": [
      "Outliers\n",
      "Outliers which has high values ---> set()\n",
      "---------------------------------------------------\n",
      "Outliers which has low values ---> {0}\n"
     ]
    }
   ],
   "source": [
    "detetct_out(df,'humidity')"
   ]
  },
  {
   "cell_type": "code",
   "execution_count": 55,
   "id": "b721910b",
   "metadata": {},
   "outputs": [
    {
     "name": "stdout",
     "output_type": "stream",
     "text": [
      "Outliers\n",
      "Outliers which has high values ---> set()\n",
      "---------------------------------------------------\n",
      "Outliers which has low values ---> set()\n"
     ]
    }
   ],
   "source": [
    "detetct_out(df,'temp')"
   ]
  },
  {
   "cell_type": "code",
   "execution_count": 56,
   "id": "1c4e178e",
   "metadata": {},
   "outputs": [
    {
     "name": "stdout",
     "output_type": "stream",
     "text": [
      "Outliers\n",
      "Outliers which has high values ---> set()\n",
      "---------------------------------------------------\n",
      "Outliers which has low values ---> set()\n"
     ]
    }
   ],
   "source": [
    "detetct_out(df,'atemp')"
   ]
  },
  {
   "cell_type": "markdown",
   "id": "36138e72",
   "metadata": {},
   "source": [
    "### WindSpeed"
   ]
  },
  {
   "cell_type": "code",
   "execution_count": 57,
   "id": "088fe164",
   "metadata": {},
   "outputs": [
    {
     "name": "stderr",
     "output_type": "stream",
     "text": [
      "C:\\Users\\Abhilash\\anaconda3\\lib\\site-packages\\seaborn\\_decorators.py:36: FutureWarning: Pass the following variable as a keyword arg: x. From version 0.12, the only valid positional argument will be `data`, and passing other arguments without an explicit keyword will result in an error or misinterpretation.\n",
      "  warnings.warn(\n"
     ]
    },
    {
     "data": {
      "text/plain": [
       "<AxesSubplot:xlabel='windspeed'>"
      ]
     },
     "execution_count": 57,
     "metadata": {},
     "output_type": "execute_result"
    },
    {
     "data": {
      "image/png": "[encoded data removed]",
      "text/plain": [
       "<Figure size 432x288 with 1 Axes>"
      ]
     },
     "metadata": {
      "needs_background": "light"
     },
     "output_type": "display_data"
    }
   ],
   "source": [
    "sns.boxplot(df['windspeed'])"
   ]
  },
  {
   "cell_type": "code",
   "execution_count": 58,
   "id": "f337e001",
   "metadata": {},
   "outputs": [
    {
     "name": "stdout",
     "output_type": "stream",
     "text": [
      "Outliers\n",
      "Outliers which has high values ---> {32.9975, 35.0008, 36.9974, 39.0007, 40.9973, 43.9989, 43.0006, 46.0022, 47.9988, 50.0021, 51.9987, 56.9969}\n",
      "---------------------------------------------------\n",
      "Outliers which has low values ---> set()\n"
     ]
    }
   ],
   "source": [
    "detetct_out(df,'windspeed')"
   ]
  },
  {
   "cell_type": "code",
   "execution_count": 59,
   "id": "88b03230",
   "metadata": {},
   "outputs": [
    {
     "name": "stdout",
     "output_type": "stream",
     "text": [
      "Outliers\n",
      "Outliers which has high values ---> {117, 118, 119, 120, 121, 122, 123, 124, 125, 126, 127, 128, 129, 130, 131, 132, 133, 134, 135, 136, 137, 138, 139, 140, 141, 142, 143, 144, 145, 146, 147, 148, 149, 150, 151, 152, 153, 154, 155, 156, 157, 158, 159, 160, 161, 162, 163, 164, 165, 166, 167, 168, 169, 170, 171, 172, 173, 174, 175, 176, 177, 178, 179, 180, 181, 182, 183, 184, 185, 186, 187, 188, 189, 190, 191, 192, 193, 194, 195, 196, 197, 198, 199, 200, 201, 202, 203, 204, 205, 206, 207, 208, 209, 210, 212, 213, 214, 215, 216, 217, 218, 219, 220, 221, 222, 223, 224, 225, 226, 227, 228, 229, 230, 232, 233, 234, 235, 236, 237, 238, 239, 240, 241, 242, 243, 244, 245, 246, 247, 248, 249, 250, 251, 253, 254, 255, 256, 257, 258, 259, 260, 262, 263, 264, 265, 266, 267, 268, 269, 272, 274, 275, 276, 279, 280, 282, 283, 284, 286, 287, 288, 289, 291, 292, 293, 294, 295, 297, 298, 299, 304, 308, 310, 311, 312, 317, 320, 321, 325, 326, 327, 331, 332, 350, 352, 354, 355, 356, 357, 361, 362, 367}\n",
      "---------------------------------------------------\n",
      "Outliers which has low values ---> set()\n"
     ]
    }
   ],
   "source": [
    "detetct_out(df,'casual')"
   ]
  },
  {
   "cell_type": "code",
   "execution_count": 60,
   "id": "3fe62c16",
   "metadata": {},
   "outputs": [
    {
     "name": "stdout",
     "output_type": "stream",
     "text": [
      "Outliers\n",
      "Outliers which has high values ---> {512, 513, 514, 515, 516, 517, 518, 521, 522, 523, 525, 527, 529, 530, 531, 532, 533, 534, 536, 537, 538, 539, 540, 541, 542, 543, 544, 545, 546, 547, 548, 549, 551, 552, 553, 554, 555, 556, 557, 558, 559, 560, 561, 562, 563, 564, 565, 566, 567, 568, 570, 571, 572, 573, 575, 576, 577, 578, 579, 580, 581, 582, 583, 584, 586, 589, 591, 593, 594, 595, 596, 597, 598, 601, 602, 603, 604, 605, 608, 609, 610, 613, 614, 615, 616, 617, 618, 619, 620, 621, 622, 623, 624, 625, 626, 628, 629, 631, 633, 634, 636, 637, 638, 639, 640, 641, 642, 643, 644, 645, 646, 647, 648, 649, 650, 651, 652, 653, 655, 656, 658, 659, 660, 661, 662, 663, 664, 665, 666, 667, 668, 669, 670, 672, 673, 675, 677, 678, 679, 680, 681, 682, 684, 688, 689, 690, 692, 693, 694, 696, 697, 698, 699, 700, 702, 703, 704, 706, 708, 709, 711, 712, 713, 715, 716, 718, 719, 720, 723, 725, 726, 727, 733, 734, 735, 737, 739, 740, 741, 742, 743, 744, 745, 746, 749, 750, 751, 756, 757, 758, 761, 764, 766, 767, 768, 769, 770, 773, 775, 778, 779, 780, 781, 782, 786, 787, 788, 789, 790, 791, 794, 800, 802, 803, 806, 807, 811, 812, 833, 839, 857, 886, 502, 503, 504, 505, 506, 507, 508, 509, 510, 511}\n",
      "---------------------------------------------------\n",
      "Outliers which has low values ---> set()\n"
     ]
    }
   ],
   "source": [
    "detetct_out(df,'registered')"
   ]
  },
  {
   "cell_type": "code",
   "execution_count": null,
   "id": "b9a5ba0a",
   "metadata": {},
   "outputs": [],
   "source": []
  },
  {
   "cell_type": "markdown",
   "id": "00597d9a",
   "metadata": {},
   "source": [
    "### Bi variant "
   ]
  },
  {
   "cell_type": "code",
   "execution_count": 61,
   "id": "d6714750",
   "metadata": {},
   "outputs": [],
   "source": [
    "workingday_count = df[df['workingday']==1]['count'].values\n",
    "\n",
    "non_Workingday_count = df[df['workingday']==0]['count'].values"
   ]
  },
  {
   "cell_type": "code",
   "execution_count": 62,
   "id": "68e6d0d6",
   "metadata": {},
   "outputs": [
    {
     "data": {
      "image/png": "[encoded data removed]",
      "text/plain": [
       "<Figure size 432x288 with 1 Axes>"
      ]
     },
     "metadata": {
      "needs_background": "light"
     },
     "output_type": "display_data"
    }
   ],
   "source": [
    "sns.boxplot(data = df, y = 'count', x = 'workingday')\n",
    "plt.title('Distribution of Count on Working and Non Working Day')\n",
    "plt.show()"
   ]
  },
  {
   "cell_type": "code",
   "execution_count": 63,
   "id": "9b920d3c",
   "metadata": {},
   "outputs": [],
   "source": [
    "d = df.groupby(['year', 'month']).sum()['atemp'].reset_index()\n",
    "d['month_year'] = d['month'].astype(str) +'-'+ d['year'].astype(str)\n",
    "\n",
    "\n",
    "c = df.groupby(['year', 'month']).sum()['temp'].reset_index()\n",
    "d['temp']=c['temp']"
   ]
  },
  {
   "cell_type": "code",
   "execution_count": 64,
   "id": "76a3e209",
   "metadata": {},
   "outputs": [
    {
     "data": {
      "image/png": "[encoded data removed]",
      "text/plain": [
       "<Figure size 432x288 with 1 Axes>"
      ]
     },
     "metadata": {
      "needs_background": "light"
     },
     "output_type": "display_data"
    }
   ],
   "source": [
    "sns.lineplot(x = d['month_year'], y = d['atemp'] ,label='Atemp')\n",
    "sns.lineplot(x = d['month_year'], y = d['temp'] ,label='temp')\n",
    "plt.xticks(rotation = 90)\n",
    "plt.title('Temperature (feeling) Every Month - Year ')\n",
    "plt.show()"
   ]
  },
  {
   "cell_type": "code",
   "execution_count": 65,
   "id": "d3fc330d",
   "metadata": {},
   "outputs": [
    {
     "data": {
      "image/png": "[encoded data removed]",
      "text/plain": [
       "<Figure size 432x288 with 1 Axes>"
      ]
     },
     "metadata": {
      "needs_background": "light"
     },
     "output_type": "display_data"
    }
   ],
   "source": [
    "sns.boxplot(data = df, y = 'count', x = 'season')\n",
    "plt.title('Distribution of Count of Rented Bikes on Different Seasons')\n",
    "plt.show()"
   ]
  },
  {
   "cell_type": "code",
   "execution_count": 66,
   "id": "88960107",
   "metadata": {},
   "outputs": [
    {
     "data": {
      "image/png": "[encoded data removed]",
      "text/plain": [
       "<Figure size 432x288 with 1 Axes>"
      ]
     },
     "metadata": {
      "needs_background": "light"
     },
     "output_type": "display_data"
    }
   ],
   "source": [
    "sns.boxplot(data = df, y = 'count', x = 'weather')\n",
    "plt.title('Distribution of Count of Bikes rented fro Different Weather')\n",
    "plt.show()"
   ]
  },
  {
   "cell_type": "code",
   "execution_count": 67,
   "id": "b7d0aeec",
   "metadata": {},
   "outputs": [
    {
     "data": {
      "text/plain": [
       "Text(0.5, 1.0, 'Occurance of different Seasons along with different Weather')"
      ]
     },
     "execution_count": 67,
     "metadata": {},
     "output_type": "execute_result"
    },
    {
     "data": {
      "image/png": "[encoded data removed]",
      "text/plain": [
       "<Figure size 432x288 with 1 Axes>"
      ]
     },
     "metadata": {
      "needs_background": "light"
     },
     "output_type": "display_data"
    }
   ],
   "source": [
    "sns.countplot(data = df, x = 'season', hue = 'weather')\n",
    "plt.title('Occurance of different Seasons along with different Weather')"
   ]
  },
  {
   "cell_type": "code",
   "execution_count": 68,
   "id": "2ded9bd2",
   "metadata": {},
   "outputs": [
    {
     "data": {
      "image/png": "[encoded data removed]",
      "text/plain": [
       "<Figure size 432x288 with 1 Axes>"
      ]
     },
     "metadata": {
      "needs_background": "light"
     },
     "output_type": "display_data"
    }
   ],
   "source": [
    "d = df.groupby(['year', 'month']).sum()['humidity'].reset_index()\n",
    "d['month_year'] = d['month'].astype(str) +'-'+ d['year'].astype(str)\n",
    "\n",
    "sns.lineplot(x = d['month_year'], y = d['humidity'] )\n",
    "plt.xticks(rotation = 90)\n",
    "plt.title('Humidity variations Every Month - Year ')\n",
    "plt.show()"
   ]
  },
  {
   "cell_type": "code",
   "execution_count": null,
   "id": "db3aa203",
   "metadata": {},
   "outputs": [],
   "source": []
  },
  {
   "cell_type": "markdown",
   "id": "14d2e832",
   "metadata": {},
   "source": [
    "## HYPOTHISIS TESTING"
   ]
  },
  {
   "cell_type": "markdown",
   "id": "bc380a79",
   "metadata": {},
   "source": [
    "Visual analysis (1)\n",
    "\n",
    "Hypothesis formulation (1)\n",
    "\n",
    "Select the appropriate test (1)\n",
    "\n",
    "Check test assumptions (2)\n",
    "\n",
    "Find the p-value(1)\n",
    "\n",
    "Conclusion based on the p-value (2)\n"
   ]
  },
  {
   "cell_type": "markdown",
   "id": "e78af6fc",
   "metadata": {},
   "source": [
    "Working Day has effect on number of electric cycles rented"
   ]
  },
  {
   "cell_type": "code",
   "execution_count": 69,
   "id": "e030fef8",
   "metadata": {},
   "outputs": [
    {
     "data": {
      "text/plain": [
       "<AxesSubplot:xlabel='workingday', ylabel='count'>"
      ]
     },
     "execution_count": 69,
     "metadata": {},
     "output_type": "execute_result"
    },
    {
     "data": {
      "image/png": "[encoded data removed]",
      "text/plain": [
       "<Figure size 432x288 with 1 Axes>"
      ]
     },
     "metadata": {
      "needs_background": "light"
     },
     "output_type": "display_data"
    }
   ],
   "source": [
    "sns.barplot(data=df,x='workingday',y='count',estimator=np.sum)"
   ]
  },
  {
   "cell_type": "markdown",
   "id": "42404a28",
   "metadata": {},
   "source": [
    "Sum of Total counts on rented bikes are more for working day=1 "
   ]
  },
  {
   "cell_type": "code",
   "execution_count": 70,
   "id": "336e5740",
   "metadata": {},
   "outputs": [
    {
     "data": {
      "text/plain": [
       "<AxesSubplot:xlabel='workingday', ylabel='count'>"
      ]
     },
     "execution_count": 70,
     "metadata": {},
     "output_type": "execute_result"
    },
    {
     "data": {
      "image/png": "[encoded data removed]",
      "text/plain": [
       "<Figure size 432x288 with 1 Axes>"
      ]
     },
     "metadata": {
      "needs_background": "light"
     },
     "output_type": "display_data"
    }
   ],
   "source": [
    "sns.boxplot(data=df,x='workingday',y='count')"
   ]
  },
  {
   "cell_type": "markdown",
   "id": "c16c6b59",
   "metadata": {},
   "source": [
    "The means of both groups looks similar "
   ]
  },
  {
   "cell_type": "code",
   "execution_count": 71,
   "id": "86563521",
   "metadata": {},
   "outputs": [
    {
     "data": {
      "text/plain": [
       "<AxesSubplot:xlabel='count', ylabel='Density'>"
      ]
     },
     "execution_count": 71,
     "metadata": {},
     "output_type": "execute_result"
    },
    {
     "data": {
      "image/png": "[encoded data removed]",
      "text/plain": [
       "<Figure size 432x288 with 1 Axes>"
      ]
     },
     "metadata": {
      "needs_background": "light"
     },
     "output_type": "display_data"
    }
   ],
   "source": [
    "sns.kdeplot(data=df,x='count',hue='workingday')"
   ]
  },
  {
   "cell_type": "markdown",
   "id": "980f9d9c",
   "metadata": {},
   "source": [
    "the dristribution of the two groups looks simliar"
   ]
  },
  {
   "cell_type": "markdown",
   "id": "d7059939",
   "metadata": {},
   "source": [
    "Now we will test how significantly say that these are similar or different"
   ]
  },
  {
   "cell_type": "markdown",
   "id": "c2678648",
   "metadata": {},
   "source": [
    "#### Hypothesis Testing\n",
    "\n",
    "##### Ho - The count of Bikes rented on Working and Non Working Day is same. (mu_workring=mu_not_working)\n",
    "\n",
    "##### Ha - The count of Bikes rented on Working and Non Working Day not is same.(mu_workring != mu_not_working)"
   ]
  },
  {
   "cell_type": "markdown",
   "id": "1883fc8d",
   "metadata": {},
   "source": [
    "###### To check the above we use Two Tailed Two sample T test."
   ]
  },
  {
   "cell_type": "markdown",
   "id": "0b64bfb3",
   "metadata": {},
   "source": [
    "#### Assumptions of Student's T Test - \n",
    "* The Data follows normal Distribution\n",
    "* The Data is sampled Independently and Randomly.\n",
    "* Homogenity of Variance - the two populations compared should have the same variance."
   ]
  },
  {
   "cell_type": "code",
   "execution_count": 72,
   "id": "ce74a3f3",
   "metadata": {},
   "outputs": [],
   "source": [
    "workingday_count = df[df['workingday']==1]['count'].values\n",
    "\n",
    "non_Workingday_count = df[df['workingday']==0]['count'].values"
   ]
  },
  {
   "cell_type": "code",
   "execution_count": 73,
   "id": "a4cd2abf",
   "metadata": {},
   "outputs": [
    {
     "data": {
      "text/plain": [
       "((array([-3.73592685, -3.50654119, -3.38040512, ...,  3.38040512,\n",
       "          3.50654119,  3.73592685]),\n",
       "  array([  1,   1,   1, ..., 968, 970, 977], dtype=int64)),\n",
       " (172.21129312911785, 193.01187263896384, 0.9329510592827184))"
      ]
     },
     "execution_count": 73,
     "metadata": {},
     "output_type": "execute_result"
    },
    {
     "data": {
      "image/png": "[encoded data removed]",
      "text/plain": [
       "<Figure size 432x288 with 1 Axes>"
      ]
     },
     "metadata": {
      "needs_background": "light"
     },
     "output_type": "display_data"
    }
   ],
   "source": [
    "stat.probplot(workingday_count, dist=\"norm\",plot=plt)"
   ]
  },
  {
   "cell_type": "code",
   "execution_count": 74,
   "id": "d42f0f64",
   "metadata": {},
   "outputs": [
    {
     "data": {
      "text/plain": [
       "((array([-3.54073861, -3.29951448, -3.16625247, ...,  3.16625247,\n",
       "          3.29951448,  3.54073861]),\n",
       "  array([  1,   1,   1, ..., 743, 757, 783], dtype=int64)),\n",
       " (163.61448976764962, 188.50662061024755, 0.9410724052425977))"
      ]
     },
     "execution_count": 74,
     "metadata": {},
     "output_type": "execute_result"
    },
    {
     "data": {
      "image/png": "[encoded data removed]",
      "text/plain": [
       "<Figure size 432x288 with 1 Axes>"
      ]
     },
     "metadata": {
      "needs_background": "light"
     },
     "output_type": "display_data"
    }
   ],
   "source": [
    "stat.probplot(non_Workingday_count, dist=\"norm\",plot=plt)"
   ]
  },
  {
   "cell_type": "markdown",
   "id": "053a8a4f",
   "metadata": {},
   "source": [
    "These are not seems to be normally dristibuted using qq plot"
   ]
  },
  {
   "cell_type": "code",
   "execution_count": 75,
   "id": "328f1701",
   "metadata": {},
   "outputs": [],
   "source": [
    "# we will use Shapiro-wilk test to check normailty of the samples\n",
    "# we will take 300 samples from each groups and check normality\n",
    "import random"
   ]
  },
  {
   "cell_type": "code",
   "execution_count": 76,
   "id": "747bd97f",
   "metadata": {},
   "outputs": [
    {
     "data": {
      "text/plain": [
       "ShapiroResult(statistic=0.8614941835403442, pvalue=9.710049011726766e-16)"
      ]
     },
     "execution_count": 76,
     "metadata": {},
     "output_type": "execute_result"
    }
   ],
   "source": [
    "#Ho=the sample comes from a normal distribution\n",
    "#Ha=the sample does not comes from a normal distribution\n",
    "#at significance of 5%\n",
    "stat.shapiro(random.sample(workingday_count.tolist(),300))"
   ]
  },
  {
   "cell_type": "code",
   "execution_count": 77,
   "id": "be8281fb",
   "metadata": {},
   "outputs": [
    {
     "data": {
      "text/plain": [
       "ShapiroResult(statistic=0.8925567269325256, pvalue=9.993134114259436e-14)"
      ]
     },
     "execution_count": 77,
     "metadata": {},
     "output_type": "execute_result"
    }
   ],
   "source": [
    "stat.shapiro(random.sample(non_Workingday_count.tolist(),300))"
   ]
  },
  {
   "cell_type": "markdown",
   "id": "d46da6bd",
   "metadata": {},
   "source": [
    "Since p vale is less than 5 % we will reject null hypothisis and accpect alternate hyp\n",
    "\n",
    "these two samples are not from normal drstibution"
   ]
  },
  {
   "cell_type": "code",
   "execution_count": 78,
   "id": "c71c5d2d",
   "metadata": {},
   "outputs": [],
   "source": [
    "#### Testing Homogenity of Variance\n",
    "#Ho=the variance among groups is equal\n",
    "#Ha=the variance among groups is not equal"
   ]
  },
  {
   "cell_type": "code",
   "execution_count": 79,
   "id": "3ec24e7b",
   "metadata": {},
   "outputs": [
    {
     "data": {
      "text/plain": [
       "LeveneResult(statistic=0.004972848886504472, pvalue=0.9437823280916695)"
      ]
     },
     "execution_count": 79,
     "metadata": {},
     "output_type": "execute_result"
    }
   ],
   "source": [
    "stat.levene(workingday_count, non_Workingday_count)"
   ]
  },
  {
   "cell_type": "markdown",
   "id": "953ed23b",
   "metadata": {},
   "source": [
    "Since the pValue is greater than 0.05, we can say that the variance of both the samples is not statistically different."
   ]
  },
  {
   "cell_type": "code",
   "execution_count": null,
   "id": "0991feba",
   "metadata": {},
   "outputs": [],
   "source": []
  },
  {
   "cell_type": "code",
   "execution_count": null,
   "id": "ef11cf90",
   "metadata": {},
   "outputs": [],
   "source": []
  },
  {
   "cell_type": "markdown",
   "id": "5bd23cfa",
   "metadata": {},
   "source": [
    "Since these sample are not normally dristibuted ,\n",
    "\n",
    "For now we will check with T-test"
   ]
  },
  {
   "cell_type": "markdown",
   "id": "ca89d3b4",
   "metadata": {},
   "source": [
    "##### Ho - The count of Bikes rented on Working and Non Working Day is same. (mu_workring=mu_not_working)\n",
    "\n",
    "##### Ha - The count of Bikes rented on Working and Non Working Day not is same.(mu_workring != mu_not_working)"
   ]
  },
  {
   "cell_type": "code",
   "execution_count": 80,
   "id": "ffa3bc9c",
   "metadata": {},
   "outputs": [
    {
     "data": {
      "text/plain": [
       "Ttest_indResult(statistic=1.2096277376026694, pvalue=0.22644804226361348)"
      ]
     },
     "execution_count": 80,
     "metadata": {},
     "output_type": "execute_result"
    }
   ],
   "source": [
    "stat.ttest_ind(workingday_count, non_Workingday_count)"
   ]
  },
  {
   "cell_type": "markdown",
   "id": "ed0a360a",
   "metadata": {},
   "source": [
    "#### Conclusion - Since the P Value is gretaer than Significance level = 0.05, we Fail to reject the Null Hypothesis, and conclude that Count of bikes rented on Working day and non Working day is not Statistcally different."
   ]
  },
  {
   "cell_type": "code",
   "execution_count": null,
   "id": "68d1c5d9",
   "metadata": {},
   "outputs": [],
   "source": []
  },
  {
   "cell_type": "code",
   "execution_count": 81,
   "id": "abde2731",
   "metadata": {},
   "outputs": [],
   "source": [
    "#We can try some non parametric test"
   ]
  },
  {
   "cell_type": "code",
   "execution_count": 82,
   "id": "5277f5dc",
   "metadata": {},
   "outputs": [],
   "source": [
    "#Ho=Two samples come from same dristribution\n",
    "#Ha=Two samples do not come from same dristribution"
   ]
  },
  {
   "cell_type": "code",
   "execution_count": 83,
   "id": "c44ed939",
   "metadata": {},
   "outputs": [
    {
     "data": {
      "text/plain": [
       "KstestResult(statistic=0.05570196737090361, pvalue=8.003959314217823e-07)"
      ]
     },
     "execution_count": 83,
     "metadata": {},
     "output_type": "execute_result"
    }
   ],
   "source": [
    "stat.ks_2samp(workingday_count, non_Workingday_count)"
   ]
  },
  {
   "cell_type": "markdown",
   "id": "77b19064",
   "metadata": {},
   "source": [
    "By using non parametric test like ks test\n",
    "\n",
    "since p vale is less than significance value of 0.05 \n",
    "\n",
    "we reject null hypothisis\n",
    "\n",
    "these two samples come from different dristribution"
   ]
  },
  {
   "cell_type": "code",
   "execution_count": null,
   "id": "9b4f42ec",
   "metadata": {},
   "outputs": [],
   "source": []
  },
  {
   "cell_type": "code",
   "execution_count": 84,
   "id": "c9cf1dc6",
   "metadata": {},
   "outputs": [],
   "source": [
    "#Man whittney u test\n",
    "#(H0) is that the two populations are equal\n",
    "#Ha =is that the two populations are  not equal"
   ]
  },
  {
   "cell_type": "code",
   "execution_count": 85,
   "id": "21ae2b92",
   "metadata": {},
   "outputs": [
    {
     "data": {
      "text/plain": [
       "MannwhitneyuResult(statistic=12868495.5, pvalue=0.48395699769570394)"
      ]
     },
     "execution_count": 85,
     "metadata": {},
     "output_type": "execute_result"
    }
   ],
   "source": [
    "stat.mannwhitneyu(workingday_count, non_Workingday_count)"
   ]
  },
  {
   "cell_type": "markdown",
   "id": "b60c1b11",
   "metadata": {},
   "source": [
    "Since p vale is greater that significance we accpect null hypothisi\n",
    "\n",
    "The means of the both groups are same and conclude that Count of bikes rented on Working day and non Working day is not Statistcally different."
   ]
  },
  {
   "cell_type": "code",
   "execution_count": null,
   "id": "d52dddb0",
   "metadata": {},
   "outputs": [],
   "source": []
  },
  {
   "cell_type": "code",
   "execution_count": null,
   "id": "9529389f",
   "metadata": {},
   "outputs": [],
   "source": []
  },
  {
   "cell_type": "markdown",
   "id": "cf845d49",
   "metadata": {},
   "source": [
    "#### No. of cycles rented similar or different in different seasons"
   ]
  },
  {
   "cell_type": "code",
   "execution_count": 86,
   "id": "09d0af39",
   "metadata": {},
   "outputs": [
    {
     "data": {
      "image/png": "[encoded data removed]",
      "text/plain": [
       "<Figure size 432x288 with 1 Axes>"
      ]
     },
     "metadata": {
      "needs_background": "light"
     },
     "output_type": "display_data"
    }
   ],
   "source": [
    "sns.boxplot(data = df, y = 'count', x = 'season')\n",
    "plt.title('Distribution of Count of Rented Bikes on Different Seasons')\n",
    "plt.show()"
   ]
  },
  {
   "cell_type": "code",
   "execution_count": 87,
   "id": "45f59318",
   "metadata": {},
   "outputs": [
    {
     "data": {
      "image/png": "[encoded data removed]",
      "text/plain": [
       "<Figure size 432x288 with 1 Axes>"
      ]
     },
     "metadata": {
      "needs_background": "light"
     },
     "output_type": "display_data"
    }
   ],
   "source": [
    "sns.barplot(data = df, x = df['season'], y = df['count'])\n",
    "plt.title('Season vs Average Count')\n",
    "plt.show()"
   ]
  },
  {
   "cell_type": "code",
   "execution_count": 88,
   "id": "6a29bbe2",
   "metadata": {},
   "outputs": [
    {
     "name": "stdout",
     "output_type": "stream",
     "text": [
      "The Number of possible outliers in Count of Bikes rented in Season 1 = 139\n",
      "The Number of possible outliers in Count of Bikes rented in Season 2 = 42\n",
      "The Number of possible outliers in Count of Bikes rented in Season 3 = 61\n",
      "The Number of possible outliers in Count of Bikes rented in Season 4 = 64\n"
     ]
    }
   ],
   "source": [
    "x = outlier(df[df['season']==1]['count'])\n",
    "print(f'The Number of possible outliers in Count of Bikes rented in Season 1 = {len(x)}')\n",
    "\n",
    "x = outlier(df[df['season']==2]['count'])\n",
    "print(f'The Number of possible outliers in Count of Bikes rented in Season 2 = {len(x)}')\n",
    "\n",
    "x = outlier(df[df['season']==3]['count'])\n",
    "print(f'The Number of possible outliers in Count of Bikes rented in Season 3 = {len(x)}')\n",
    "\n",
    "x = outlier(df[df['season']==4]['count'])\n",
    "print(f'The Number of possible outliers in Count of Bikes rented in Season 4 = {len(x)}')"
   ]
  },
  {
   "cell_type": "code",
   "execution_count": 89,
   "id": "f098065e",
   "metadata": {},
   "outputs": [],
   "source": [
    "season1_count = df[df['season']==1]['count']\n",
    "season2_count = df[df['season']==2]['count']\n",
    "season3_count = df[df['season']==3]['count']\n",
    "season4_count = df[df['season']==4]['count']"
   ]
  },
  {
   "cell_type": "code",
   "execution_count": 90,
   "id": "7eeaffcf",
   "metadata": {},
   "outputs": [
    {
     "data": {
      "image/png": "[encoded data removed]",
      "text/plain": [
       "<Figure size 432x288 with 1 Axes>"
      ]
     },
     "metadata": {
      "needs_background": "light"
     },
     "output_type": "display_data"
    }
   ],
   "source": [
    "sns.kdeplot(season1_count, label = 'Season 1')\n",
    "sns.kdeplot(season2_count, label = 'Season 2')\n",
    "sns.kdeplot(season3_count, label = 'Season 3')\n",
    "sns.kdeplot(season4_count, label = 'Season 4')\n",
    "plt.legend()\n",
    "plt.title('Bike Rented Count Distribution in different seasons')\n",
    "plt.show()"
   ]
  },
  {
   "cell_type": "code",
   "execution_count": 91,
   "id": "c953cda3",
   "metadata": {},
   "outputs": [],
   "source": [
    "#### Testing Homogenity of Variance\n",
    "#Ho=the variance among groups is equal\n",
    "#Ha=the variance among groups is not equal"
   ]
  },
  {
   "cell_type": "code",
   "execution_count": 92,
   "id": "4e0f0342",
   "metadata": {},
   "outputs": [
    {
     "data": {
      "text/plain": [
       "LeveneResult(statistic=187.7706624026276, pvalue=1.0147116860043298e-118)"
      ]
     },
     "execution_count": 92,
     "metadata": {},
     "output_type": "execute_result"
    }
   ],
   "source": [
    "stat.levene(season1_count, season2_count, season3_count, season4_count)"
   ]
  },
  {
   "cell_type": "markdown",
   "id": "6c3c7e47",
   "metadata": {},
   "source": [
    "Since the P Value is very small, the Variance of the Samples is Significantly Different"
   ]
  },
  {
   "cell_type": "code",
   "execution_count": 93,
   "id": "03689863",
   "metadata": {},
   "outputs": [
    {
     "data": {
      "text/plain": [
       "((array([-3.47228304, -3.22661884, -3.09065989, ...,  3.09065989,\n",
       "          3.22661884,  3.47228304]),\n",
       "  array([  1,   1,   1, ..., 749, 782, 801], dtype=int64)),\n",
       " (112.76736871266657, 116.34326135517497, 0.8992877915950636))"
      ]
     },
     "execution_count": 93,
     "metadata": {},
     "output_type": "execute_result"
    },
    {
     "data": {
      "image/png": "[encoded data removed]",
      "text/plain": [
       "<Figure size 432x288 with 1 Axes>"
      ]
     },
     "metadata": {
      "needs_background": "light"
     },
     "output_type": "display_data"
    }
   ],
   "source": [
    "stat.probplot(season1_count, dist=\"norm\",plot=plt)"
   ]
  },
  {
   "cell_type": "code",
   "execution_count": 94,
   "id": "199e0052",
   "metadata": {},
   "outputs": [
    {
     "data": {
      "text/plain": [
       "((array([-3.47693624, -3.2315789 , -3.09580678, ...,  3.09580678,\n",
       "          3.2315789 ,  3.47693624]),\n",
       "  array([  1,   1,   1, ..., 868, 869, 873], dtype=int64)),\n",
       " (182.42737385795175, 215.25137211855102, 0.9491907117737897))"
      ]
     },
     "execution_count": 94,
     "metadata": {},
     "output_type": "execute_result"
    },
    {
     "data": {
      "image/png": "[encoded data removed]",
      "text/plain": [
       "<Figure size 432x288 with 1 Axes>"
      ]
     },
     "metadata": {
      "needs_background": "light"
     },
     "output_type": "display_data"
    }
   ],
   "source": [
    "stat.probplot(season2_count, dist=\"norm\",plot=plt)"
   ]
  },
  {
   "cell_type": "code",
   "execution_count": 95,
   "id": "1a3f028d",
   "metadata": {},
   "outputs": [
    {
     "data": {
      "text/plain": [
       "((array([-3.47693624, -3.2315789 , -3.09580678, ...,  3.09580678,\n",
       "          3.2315789 ,  3.47693624]),\n",
       "  array([  1,   1,   1, ..., 968, 970, 977], dtype=int64)),\n",
       " (188.7903332981574, 234.41712403951698, 0.9566723243576184))"
      ]
     },
     "execution_count": 95,
     "metadata": {},
     "output_type": "execute_result"
    },
    {
     "data": {
      "image/png": "[encoded data removed]",
      "text/plain": [
       "<Figure size 432x288 with 1 Axes>"
      ]
     },
     "metadata": {
      "needs_background": "light"
     },
     "output_type": "display_data"
    }
   ],
   "source": [
    "stat.probplot(season3_count, dist=\"norm\",plot=plt)"
   ]
  },
  {
   "cell_type": "code",
   "execution_count": 96,
   "id": "b2fa5c60",
   "metadata": {},
   "outputs": [
    {
     "data": {
      "text/plain": [
       "((array([-3.47703432, -3.23168344, -3.09591525, ...,  3.09591525,\n",
       "          3.23168344,  3.47703432]),\n",
       "  array([  1,   1,   1, ..., 917, 943, 948], dtype=int64)),\n",
       " (168.27167256266745, 198.98829553767374, 0.9464459779766073))"
      ]
     },
     "execution_count": 96,
     "metadata": {},
     "output_type": "execute_result"
    },
    {
     "data": {
      "image/png": "[encoded data removed]",
      "text/plain": [
       "<Figure size 432x288 with 1 Axes>"
      ]
     },
     "metadata": {
      "needs_background": "light"
     },
     "output_type": "display_data"
    }
   ],
   "source": [
    "stat.probplot(season4_count, dist=\"norm\",plot=plt)"
   ]
  },
  {
   "cell_type": "code",
   "execution_count": null,
   "id": "0022d97b",
   "metadata": {},
   "outputs": [],
   "source": []
  },
  {
   "cell_type": "code",
   "execution_count": 97,
   "id": "5c9c0a36",
   "metadata": {},
   "outputs": [
    {
     "data": {
      "text/plain": [
       "ShapiroResult(statistic=0.7928853631019592, pvalue=3.070025008799215e-19)"
      ]
     },
     "execution_count": 97,
     "metadata": {},
     "output_type": "execute_result"
    }
   ],
   "source": [
    "#Ho=the sample comes from a normal distribution\n",
    "#Ha=the sample does not comes from a normal distribution\n",
    "#at significance of 5%\n",
    "stat.shapiro(random.sample(season1_count.tolist(),300))"
   ]
  },
  {
   "cell_type": "code",
   "execution_count": 98,
   "id": "4c4c5053",
   "metadata": {},
   "outputs": [
    {
     "data": {
      "text/plain": [
       "ShapiroResult(statistic=0.8868193626403809, pvalue=3.979319112179698e-14)"
      ]
     },
     "execution_count": 98,
     "metadata": {},
     "output_type": "execute_result"
    }
   ],
   "source": [
    "stat.shapiro(random.sample(season2_count.tolist(),300))"
   ]
  },
  {
   "cell_type": "code",
   "execution_count": 99,
   "id": "7f313d22",
   "metadata": {},
   "outputs": [
    {
     "data": {
      "text/plain": [
       "ShapiroResult(statistic=0.9043588638305664, pvalue=7.432061151398106e-13)"
      ]
     },
     "execution_count": 99,
     "metadata": {},
     "output_type": "execute_result"
    }
   ],
   "source": [
    "stat.shapiro(random.sample(season3_count.tolist(),300))"
   ]
  },
  {
   "cell_type": "code",
   "execution_count": 100,
   "id": "71ff7f19",
   "metadata": {},
   "outputs": [
    {
     "data": {
      "text/plain": [
       "ShapiroResult(statistic=0.8929358124732971, pvalue=1.0632639923678286e-13)"
      ]
     },
     "execution_count": 100,
     "metadata": {},
     "output_type": "execute_result"
    }
   ],
   "source": [
    "stat.shapiro(random.sample(season4_count.tolist(),300))"
   ]
  },
  {
   "cell_type": "markdown",
   "id": "369097e3",
   "metadata": {},
   "source": [
    "For all samples the p value is less than 5% so we reject null hypothisis\n",
    "\n",
    "These sample does not comes from normal dristribution"
   ]
  },
  {
   "cell_type": "code",
   "execution_count": null,
   "id": "f9dd27aa",
   "metadata": {},
   "outputs": [],
   "source": []
  },
  {
   "cell_type": "markdown",
   "id": "1edb1fba",
   "metadata": {},
   "source": [
    "#### From The above plot, The data does not follow Normal ditributioon.\n",
    "#### If we assume that the Data Satisfies all the assumptions of ANOVA"
   ]
  },
  {
   "cell_type": "markdown",
   "id": "97b9889f",
   "metadata": {},
   "source": [
    "#### Hypothesis Testing\n",
    "\n",
    "##### Ho - The count of Bikes rented in different seasons are Same.\n",
    "\n",
    "##### Ha - The count of Bikes rented in different seasons are different."
   ]
  },
  {
   "cell_type": "code",
   "execution_count": 101,
   "id": "cf2ac3c7",
   "metadata": {},
   "outputs": [
    {
     "data": {
      "text/plain": [
       "F_onewayResult(statistic=236.94671081032106, pvalue=6.164843386499654e-149)"
      ]
     },
     "execution_count": 101,
     "metadata": {},
     "output_type": "execute_result"
    }
   ],
   "source": [
    "stat.f_oneway(season1_count, season2_count, season3_count, season4_count)"
   ]
  },
  {
   "cell_type": "markdown",
   "id": "cfba3e4a",
   "metadata": {},
   "source": [
    "#### Becuase the P value is less than the Significance level (0.05), we reject the null Hypothesis and conclude that Number of bikes rented in different seasons are Statistically Different"
   ]
  },
  {
   "cell_type": "code",
   "execution_count": null,
   "id": "83d6d319",
   "metadata": {},
   "outputs": [],
   "source": []
  },
  {
   "cell_type": "markdown",
   "id": "2becea41",
   "metadata": {},
   "source": [
    "#### Assumptions for ANOVA \n",
    "* Populations from which samples are drawn should be normal.\n",
    "* These sample distribution should have nearly the same variance.\n",
    "* Samples should be drawn randomly and independently. \n"
   ]
  },
  {
   "cell_type": "markdown",
   "id": "95df0238",
   "metadata": {},
   "source": [
    "#### If we dont make any assumption about Population' s Distribution, we can use Kruskal instead of ANOVA "
   ]
  },
  {
   "cell_type": "code",
   "execution_count": 102,
   "id": "f34b5311",
   "metadata": {},
   "outputs": [
    {
     "data": {
      "text/plain": [
       "KruskalResult(statistic=699.6668548181988, pvalue=2.479008372608633e-151)"
      ]
     },
     "execution_count": 102,
     "metadata": {},
     "output_type": "execute_result"
    }
   ],
   "source": [
    "stat.kruskal(season1_count, season2_count, season3_count, season4_count)"
   ]
  },
  {
   "cell_type": "markdown",
   "id": "3f27b932",
   "metadata": {},
   "source": [
    "#### Conclusion - Becuase the P value is less than the Significance level (0.05), we reject the null Hypothesis and conclude that Number of bikes rented in different seasons are Statistically Different"
   ]
  },
  {
   "cell_type": "code",
   "execution_count": null,
   "id": "25034e6f",
   "metadata": {},
   "outputs": [],
   "source": [
    "    "
   ]
  },
  {
   "cell_type": "code",
   "execution_count": null,
   "id": "326cf800",
   "metadata": {},
   "outputs": [],
   "source": []
  },
  {
   "cell_type": "markdown",
   "id": "405d343d",
   "metadata": {},
   "source": [
    "### No. of cycles rented similar or different in different weather"
   ]
  },
  {
   "cell_type": "code",
   "execution_count": 103,
   "id": "20862919",
   "metadata": {},
   "outputs": [
    {
     "data": {
      "image/png": "[encoded data removed]",
      "text/plain": [
       "<Figure size 432x288 with 1 Axes>"
      ]
     },
     "metadata": {
      "needs_background": "light"
     },
     "output_type": "display_data"
    }
   ],
   "source": [
    "sns.boxplot(data = df, y = 'count', x = 'weather')\n",
    "plt.title('Distribution of Count of Bikes rented fro Different Weather')\n",
    "plt.show()"
   ]
  },
  {
   "cell_type": "code",
   "execution_count": 104,
   "id": "45917ce0",
   "metadata": {},
   "outputs": [
    {
     "data": {
      "image/png": "[encoded data removed]",
      "text/plain": [
       "<Figure size 432x288 with 1 Axes>"
      ]
     },
     "metadata": {
      "needs_background": "light"
     },
     "output_type": "display_data"
    }
   ],
   "source": [
    "sns.barplot(data = df, x = df['weather'], y = df['count'])\n",
    "plt.title('Weather vs Average Count')\n",
    "plt.show()"
   ]
  },
  {
   "cell_type": "code",
   "execution_count": 105,
   "id": "9d1c009b",
   "metadata": {},
   "outputs": [
    {
     "name": "stdout",
     "output_type": "stream",
     "text": [
      "The Number of possible outliers in Count of Bikes rented in Weather 1 = 160\n",
      "The Number of possible outliers in Count of Bikes rented in Weather 2 = 82\n",
      "The Number of possible outliers in Count of Bikes rented in Weather 3 = 56\n"
     ]
    }
   ],
   "source": [
    "x = outlier(df[df['weather']==1]['count'])\n",
    "print(f'The Number of possible outliers in Count of Bikes rented in Weather 1 = {len(x)}')\n",
    "\n",
    "x = outlier(df[df['weather']==2]['count'])\n",
    "print(f'The Number of possible outliers in Count of Bikes rented in Weather 2 = {len(x)}')\n",
    "\n",
    "x = outlier(df[df['weather']==3]['count'])\n",
    "print(f'The Number of possible outliers in Count of Bikes rented in Weather 3 = {len(x)}')"
   ]
  },
  {
   "cell_type": "markdown",
   "id": "617460e5",
   "metadata": {},
   "source": [
    "#### Note - Since We only have single record for weather 4, we will not consider it in the analysis"
   ]
  },
  {
   "cell_type": "markdown",
   "id": "3f6f4dd0",
   "metadata": {},
   "source": [
    "#### Hypothesis Testing\n",
    "\n",
    "##### Ho - The count of Bikes rented in different Weathers are Same.\n",
    "\n",
    "##### Ha - The count of Bikes rented in different Weathers are different."
   ]
  },
  {
   "cell_type": "code",
   "execution_count": 106,
   "id": "4879e8b1",
   "metadata": {},
   "outputs": [
    {
     "name": "stderr",
     "output_type": "stream",
     "text": [
      "C:\\Users\\Abhilash\\anaconda3\\lib\\site-packages\\seaborn\\distributions.py:306: UserWarning: Dataset has 0 variance; skipping density estimate.\n",
      "  warnings.warn(msg, UserWarning)\n"
     ]
    },
    {
     "data": {
      "image/png": "[encoded data removed]",
      "text/plain": [
       "<Figure size 432x288 with 1 Axes>"
      ]
     },
     "metadata": {
      "needs_background": "light"
     },
     "output_type": "display_data"
    }
   ],
   "source": [
    "sns.kdeplot(data = df, x = 'count', hue = 'weather')\n",
    "plt.title('Distribution of Count in Different Weathers')\n",
    "plt.show()"
   ]
  },
  {
   "cell_type": "code",
   "execution_count": 107,
   "id": "0efba8b4",
   "metadata": {},
   "outputs": [],
   "source": [
    "weather1_count = df[df['weather']==1]['count']\n",
    "weather2_count = df[df['weather']==2]['count']\n",
    "weather3_count = df[df['weather']==3]['count']"
   ]
  },
  {
   "cell_type": "markdown",
   "id": "059e2424",
   "metadata": {},
   "source": [
    "#### Testing for equavalance of Variance\n",
    "#### Testing Homogenity of Variance\n",
    "#Ho=the variance among groups is equal\n",
    "\n",
    "#Ha=the variance among groups is not equal"
   ]
  },
  {
   "cell_type": "code",
   "execution_count": 108,
   "id": "9311de82",
   "metadata": {},
   "outputs": [
    {
     "data": {
      "text/plain": [
       "LeveneResult(statistic=81.67574924435011, pvalue=6.198278710731511e-36)"
      ]
     },
     "execution_count": 108,
     "metadata": {},
     "output_type": "execute_result"
    }
   ],
   "source": [
    "stat.levene(weather1_count, weather2_count, weather3_count)"
   ]
  },
  {
   "cell_type": "markdown",
   "id": "4844104e",
   "metadata": {},
   "source": [
    "Since the P Value is less than 0.05, we can assume that the Difference of Variance is Statistically Different"
   ]
  },
  {
   "cell_type": "code",
   "execution_count": null,
   "id": "3e2507ed",
   "metadata": {},
   "outputs": [],
   "source": []
  },
  {
   "cell_type": "code",
   "execution_count": 109,
   "id": "54423680",
   "metadata": {},
   "outputs": [
    {
     "data": {
      "text/plain": [
       "((array([-3.72833929, -3.49851474, -3.37211613, ...,  3.37211613,\n",
       "          3.49851474,  3.72833929]),\n",
       "  array([  1,   1,   1, ..., 968, 970, 977], dtype=int64)),\n",
       " (177.5025626498455, 205.23679087875414, 0.9439766522111214))"
      ]
     },
     "execution_count": 109,
     "metadata": {},
     "output_type": "execute_result"
    },
    {
     "data": {
      "image/png": "[encoded data removed]",
      "text/plain": [
       "<Figure size 432x288 with 1 Axes>"
      ]
     },
     "metadata": {
      "needs_background": "light"
     },
     "output_type": "display_data"
    }
   ],
   "source": [
    "stat.probplot(weather1_count, dist=\"norm\",plot=plt)"
   ]
  },
  {
   "cell_type": "code",
   "execution_count": 110,
   "id": "72e4927d",
   "metadata": {},
   "outputs": [
    {
     "data": {
      "text/plain": [
       "((array([-3.48665304, -3.24193409, -3.10655043, ...,  3.10655043,\n",
       "          3.24193409,  3.48665304]),\n",
       "  array([  1,   1,   1, ..., 862, 868, 890], dtype=int64)),\n",
       " (157.82398189829604, 178.95553987297103, 0.9365111227539785))"
      ]
     },
     "execution_count": 110,
     "metadata": {},
     "output_type": "execute_result"
    },
    {
     "data": {
      "image/png": "[encoded data removed]",
      "text/plain": [
       "<Figure size 432x288 with 1 Axes>"
      ]
     },
     "metadata": {
      "needs_background": "light"
     },
     "output_type": "display_data"
    }
   ],
   "source": [
    "stat.probplot(weather2_count, dist=\"norm\",plot=plt)"
   ]
  },
  {
   "cell_type": "code",
   "execution_count": 111,
   "id": "ee8bafc9",
   "metadata": {
    "scrolled": false
   },
   "outputs": [
    {
     "data": {
      "image/png": "[encoded data removed]",
      "text/plain": [
       "<Figure size 432x288 with 1 Axes>"
      ]
     },
     "metadata": {
      "needs_background": "light"
     },
     "output_type": "display_data"
    }
   ],
   "source": [
    "stat.probplot(weather3_count, dist=\"norm\",plot=plt)\n",
    "plt.show()"
   ]
  },
  {
   "cell_type": "code",
   "execution_count": 112,
   "id": "2e43308f",
   "metadata": {},
   "outputs": [
    {
     "data": {
      "text/plain": [
       "ShapiroResult(statistic=0.8817917108535767, pvalue=1.823170656329101e-14)"
      ]
     },
     "execution_count": 112,
     "metadata": {},
     "output_type": "execute_result"
    }
   ],
   "source": [
    "#Ho=the sample comes from a normal distribution\n",
    "#Ha=the sample does not comes from a normal distribution\n",
    "#at significance of 5%\n",
    "stat.shapiro(random.sample(weather1_count.tolist(),300))"
   ]
  },
  {
   "cell_type": "code",
   "execution_count": 113,
   "id": "8b220c06",
   "metadata": {},
   "outputs": [
    {
     "data": {
      "text/plain": [
       "ShapiroResult(statistic=0.8714669942855835, pvalue=3.9371505933401794e-15)"
      ]
     },
     "execution_count": 113,
     "metadata": {},
     "output_type": "execute_result"
    }
   ],
   "source": [
    "stat.shapiro(random.sample(weather2_count.tolist(),300))"
   ]
  },
  {
   "cell_type": "code",
   "execution_count": 114,
   "id": "29224d8d",
   "metadata": {},
   "outputs": [
    {
     "data": {
      "text/plain": [
       "ShapiroResult(statistic=0.7860102653503418, pvalue=1.535640127689382e-19)"
      ]
     },
     "execution_count": 114,
     "metadata": {},
     "output_type": "execute_result"
    }
   ],
   "source": [
    "stat.shapiro(random.sample(weather3_count.tolist(),300))"
   ]
  },
  {
   "cell_type": "markdown",
   "id": "0ac870ee",
   "metadata": {},
   "source": [
    "For all samples the p value is less than 5% so we reject null hypothisis\n",
    "\n",
    "These sample does not comes from normal dristribution"
   ]
  },
  {
   "cell_type": "markdown",
   "id": "0cfe8025",
   "metadata": {},
   "source": [
    "#### For this if we assume the Data follows all the assumptions of ANOVA"
   ]
  },
  {
   "cell_type": "markdown",
   "id": "fc21f4e2",
   "metadata": {},
   "source": [
    "##### Ho - The count of Bikes rented in different Weathers are Same.\n",
    "\n",
    "##### Ha - The count of Bikes rented in different Weathers are different."
   ]
  },
  {
   "cell_type": "code",
   "execution_count": 115,
   "id": "2f10eda7",
   "metadata": {},
   "outputs": [
    {
     "data": {
      "text/plain": [
       "F_onewayResult(statistic=98.28356881946706, pvalue=4.976448509904196e-43)"
      ]
     },
     "execution_count": 115,
     "metadata": {},
     "output_type": "execute_result"
    }
   ],
   "source": [
    "stat.f_oneway(weather1_count, weather2_count, weather3_count)  "
   ]
  },
  {
   "cell_type": "markdown",
   "id": "9d567110",
   "metadata": {},
   "source": [
    "#### Because the P value is less than the significance level (0.05), we reject the null hypothesis and conclude that  Number of bikes rented in different Weathers are Statistically Different"
   ]
  },
  {
   "cell_type": "code",
   "execution_count": null,
   "id": "77923ebb",
   "metadata": {},
   "outputs": [],
   "source": []
  },
  {
   "cell_type": "code",
   "execution_count": 116,
   "id": "072e8ba3",
   "metadata": {},
   "outputs": [
    {
     "data": {
      "text/plain": [
       "KruskalResult(statistic=204.95566833068537, pvalue=3.122066178659941e-45)"
      ]
     },
     "execution_count": 116,
     "metadata": {},
     "output_type": "execute_result"
    }
   ],
   "source": [
    "stat.kruskal(weather1_count, weather2_count, weather3_count)  "
   ]
  },
  {
   "cell_type": "markdown",
   "id": "66e01245",
   "metadata": {},
   "source": [
    " Because the P value is less than the significance level (0.05), we reject the null hypothesis and conclude that  Number of bikes rented in different Weathers are Statistically Different\n",
    " \n",
    " From the data we can say that most number of bikes were rented during Weather 1 followed by Weather 2 and 3."
   ]
  },
  {
   "cell_type": "code",
   "execution_count": null,
   "id": "04fca7d4",
   "metadata": {},
   "outputs": [],
   "source": []
  },
  {
   "cell_type": "code",
   "execution_count": null,
   "id": "c17b08c8",
   "metadata": {},
   "outputs": [],
   "source": []
  },
  {
   "cell_type": "markdown",
   "id": "04be5a33",
   "metadata": {},
   "source": [
    "### Weather is dependent on season (check between 2 predictor variable)"
   ]
  },
  {
   "cell_type": "code",
   "execution_count": 117,
   "id": "b955e888",
   "metadata": {},
   "outputs": [
    {
     "data": {
      "text/plain": [
       "Text(0.5, 1.0, 'Occurance of different Seasons along with different Weather')"
      ]
     },
     "execution_count": 117,
     "metadata": {},
     "output_type": "execute_result"
    },
    {
     "data": {
      "image/png": "[encoded data removed]",
      "text/plain": [
       "<Figure size 432x288 with 1 Axes>"
      ]
     },
     "metadata": {
      "needs_background": "light"
     },
     "output_type": "display_data"
    }
   ],
   "source": [
    "sns.countplot(data = df, x = 'season', hue = 'weather')\n",
    "plt.title('Occurance of different Seasons along with different Weather')"
   ]
  },
  {
   "cell_type": "code",
   "execution_count": 118,
   "id": "555e8548",
   "metadata": {},
   "outputs": [
    {
     "data": {
      "text/html": [
       "<div>\n",
       "<style scoped>\n",
       "    .dataframe tbody tr th:only-of-type {\n",
       "        vertical-align: middle;\n",
       "    }\n",
       "\n",
       "    .dataframe tbody tr th {\n",
       "        vertical-align: top;\n",
       "    }\n",
       "\n",
       "    .dataframe thead th {\n",
       "        text-align: right;\n",
       "    }\n",
       "</style>\n",
       "<table border=\"1\" class=\"dataframe\">\n",
       "  <thead>\n",
       "    <tr style=\"text-align: right;\">\n",
       "      <th>season</th>\n",
       "      <th>1</th>\n",
       "      <th>2</th>\n",
       "      <th>3</th>\n",
       "      <th>4</th>\n",
       "    </tr>\n",
       "    <tr>\n",
       "      <th>weather</th>\n",
       "      <th></th>\n",
       "      <th></th>\n",
       "      <th></th>\n",
       "      <th></th>\n",
       "    </tr>\n",
       "  </thead>\n",
       "  <tbody>\n",
       "    <tr>\n",
       "      <th>1</th>\n",
       "      <td>1759</td>\n",
       "      <td>1801</td>\n",
       "      <td>1930</td>\n",
       "      <td>1702</td>\n",
       "    </tr>\n",
       "    <tr>\n",
       "      <th>2</th>\n",
       "      <td>715</td>\n",
       "      <td>708</td>\n",
       "      <td>604</td>\n",
       "      <td>807</td>\n",
       "    </tr>\n",
       "    <tr>\n",
       "      <th>3</th>\n",
       "      <td>211</td>\n",
       "      <td>224</td>\n",
       "      <td>199</td>\n",
       "      <td>225</td>\n",
       "    </tr>\n",
       "    <tr>\n",
       "      <th>4</th>\n",
       "      <td>1</td>\n",
       "      <td>0</td>\n",
       "      <td>0</td>\n",
       "      <td>0</td>\n",
       "    </tr>\n",
       "  </tbody>\n",
       "</table>\n",
       "</div>"
      ],
      "text/plain": [
       "season      1     2     3     4\n",
       "weather                        \n",
       "1        1759  1801  1930  1702\n",
       "2         715   708   604   807\n",
       "3         211   224   199   225\n",
       "4           1     0     0     0"
      ]
     },
     "execution_count": 118,
     "metadata": {},
     "output_type": "execute_result"
    }
   ],
   "source": [
    "a = pd.crosstab(df['weather'], df['season'])\n",
    "a"
   ]
  },
  {
   "cell_type": "markdown",
   "id": "3152e847",
   "metadata": {},
   "source": [
    "#### Hypothesis Testing\n",
    "\n",
    "##### Ho - Weather and Climate are Independent.\n",
    "\n",
    "##### Ha -  Weather and Climate are Dependent.\n",
    "\n",
    "##### To check this we use  Chi Square Test\n",
    "\n",
    "\n",
    "#### Assumptions of Chi2 test\n",
    "* Variables are categorical\n",
    "* Observations are independent\n",
    "* Each cell is mutually exclusive\n",
    "* Expected value in each cell is greater than 5 (at least in 80% of cells)\n"
   ]
  },
  {
   "cell_type": "code",
   "execution_count": 119,
   "id": "6c5d001d",
   "metadata": {},
   "outputs": [
    {
     "data": {
      "text/plain": [
       "(46.101457310732485,\n",
       " 2.8260014509929403e-08,\n",
       " 6,\n",
       " array([[1774.04869086, 1805.76352779, 1805.76352779, 1806.42425356],\n",
       "        [ 699.06201194,  711.55920992,  711.55920992,  711.81956821],\n",
       "        [ 211.8892972 ,  215.67726229,  215.67726229,  215.75617823]]))"
      ]
     },
     "execution_count": 119,
     "metadata": {},
     "output_type": "execute_result"
    }
   ],
   "source": [
    "stat.chi2_contingency(a.iloc[:3])"
   ]
  },
  {
   "cell_type": "markdown",
   "id": "9b65108c",
   "metadata": {},
   "source": [
    "#### Since the P Value is less than the Significance level 0.05, we reject the Null hypothesis and conclude that Weather and Climate have Dependance"
   ]
  },
  {
   "cell_type": "code",
   "execution_count": null,
   "id": "e5ce1910",
   "metadata": {},
   "outputs": [],
   "source": []
  }
 ],
 "metadata": {
  "kernelspec": {
   "display_name": "Python 3",
   "language": "python",
   "name": "python3"
  },
  "language_info": {
   "codemirror_mode": {
    "name": "ipython",
    "version": 3
   },
   "file_extension": ".py",
   "mimetype": "text/x-python",
   "name": "python",
   "nbconvert_exporter": "python",
   "pygments_lexer": "ipython3",
   "version": "3.8.8"
  }
 },
 "nbformat": 4,
 "nbformat_minor": 5
}
